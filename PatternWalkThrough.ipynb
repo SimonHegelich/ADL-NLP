{
 "cells": [
  {
   "cell_type": "markdown",
   "metadata": {},
   "source": [
    "# Pattern"
   ]
  },
  {
   "cell_type": "markdown",
   "metadata": {},
   "source": [
    "## https://www.clips.uantwerpen.be/pages/pattern-en"
   ]
  },
  {
   "cell_type": "code",
   "execution_count": null,
   "metadata": {},
   "outputs": [],
   "source": [
    "from pattern.en import referenced"
   ]
  },
  {
   "cell_type": "code",
   "execution_count": null,
   "metadata": {},
   "outputs": [],
   "source": [
    "print referenced('university')\n",
    "print referenced('hour')"
   ]
  },
  {
   "cell_type": "code",
   "execution_count": null,
   "metadata": {},
   "outputs": [],
   "source": [
    "# expects a single word\n",
    "referenced('university', 'hour')"
   ]
  },
  {
   "cell_type": "code",
   "execution_count": null,
   "metadata": {},
   "outputs": [],
   "source": [
    "from pattern.en import pluralize, singularize\n",
    "print pluralize('child')\n",
    "print singularize('wolves')"
   ]
  },
  {
   "cell_type": "code",
   "execution_count": null,
   "metadata": {},
   "outputs": [],
   "source": [
    "from pattern.en import comparative, superlative\n",
    "print comparative('bad')\n",
    "print superlative('bad')"
   ]
  },
  {
   "cell_type": "code",
   "execution_count": null,
   "metadata": {},
   "outputs": [],
   "source": [
    "from pattern.en import conjugate, lemma, lexeme\n",
    "print lexeme('house')\n",
    "print lemma('housing')\n",
    "print conjugate('run', '3sg') # he / she / it"
   ]
  },
  {
   "cell_type": "code",
   "execution_count": null,
   "metadata": {},
   "outputs": [],
   "source": [
    "from pattern.en import tenses, PAST, PRESENT, PL\n",
    "print 'p' in tenses('purred') # By alias.\n",
    "print PAST in tenses('purred')\n",
    "print (PAST, 1, PL) in tenses('purred')\n",
    "print (PRESENT, 1, PL) in tenses('purred')\n",
    "print (PRESENT, 1, PL) in tenses('runs')\n",
    "print (PRESENT, 1, PL) in tenses('run')"
   ]
  },
  {
   "cell_type": "code",
   "execution_count": null,
   "metadata": {},
   "outputs": [],
   "source": [
    "# parsing unkown verbs\n",
    "from pattern.en import verbs, conjugate, PARTICIPLE\n",
    "\n",
    "print 'google'  in verbs.infinitives\n",
    "print 'googled' in verbs.inflections\n",
    "\n",
    "print conjugate('googled', tense=PARTICIPLE, parse=False)\n",
    "print conjugate('googled', tense=PARTICIPLE, parse=True)"
   ]
  },
  {
   "cell_type": "code",
   "execution_count": null,
   "metadata": {},
   "outputs": [],
   "source": [
    "# funny numbers to text function\n",
    "from pattern.en import quantify\n",
    "\n",
    "print quantify(['goose', 'goose', 'duck', 'chicken', 'chicken', 'chicken'])\n",
    "print quantify({'carrot': 100, 'parrot': 20})\n",
    "print quantify('carrot', amount=1000)"
   ]
  },
  {
   "cell_type": "code",
   "execution_count": null,
   "metadata": {},
   "outputs": [],
   "source": [
    "# suggest words in missspelling situations\n",
    "from pattern.en import suggest\n",
    "\n",
    "print suggest(\"parot\")\n",
    "print suggest(\"Hegel\")\n",
    "print suggest(\"eagel\")"
   ]
  },
  {
   "cell_type": "code",
   "execution_count": null,
   "metadata": {},
   "outputs": [],
   "source": [
    "# n-grams\n",
    "from pattern.en import ngrams\n",
    "print ngrams(\"I am eating pizza.\", n=2) # bigrams"
   ]
  },
  {
   "cell_type": "markdown",
   "metadata": {},
   "source": [
    "## Parsing"
   ]
  },
  {
   "cell_type": "code",
   "execution_count": null,
   "metadata": {},
   "outputs": [],
   "source": [
    "from pattern.en import parse\n",
    "print parse('I eat pizza with a fork.')"
   ]
  },
  {
   "cell_type": "code",
   "execution_count": null,
   "metadata": {},
   "outputs": [],
   "source": [
    "from pattern.en import tag\n",
    "\n",
    "for word, pos in tag('I feel *happy*!'):\n",
    "    if pos == \"JJ\": # Retrieve all adjectives.\n",
    "        print word"
   ]
  },
  {
   "cell_type": "code",
   "execution_count": null,
   "metadata": {},
   "outputs": [],
   "source": [
    "from pattern.en import parse\n",
    "from pattern.en import pprint \n",
    "\n",
    "pprint(parse('I ate pizza.', relations=True, lemmata=True))"
   ]
  },
  {
   "cell_type": "code",
   "execution_count": null,
   "metadata": {},
   "outputs": [],
   "source": [
    "from pattern.en import parse\n",
    "print parse('I ate pizza.').split()"
   ]
  },
  {
   "cell_type": "code",
   "execution_count": null,
   "metadata": {},
   "outputs": [],
   "source": [
    "from pattern.en import parsetree\n",
    "\n",
    "s = parsetree('The cat sat on the mat.', relations=True, lemmata=True)\n",
    "print repr(s)"
   ]
  },
  {
   "cell_type": "code",
   "execution_count": null,
   "metadata": {},
   "outputs": [],
   "source": [
    "for sentence in s:\n",
    "    for chunk in sentence.chunks:\n",
    "        print chunk.type, [(w.string, w.type) for w in chunk.words]"
   ]
  },
  {
   "cell_type": "markdown",
   "metadata": {},
   "source": [
    "chunk.sentence             # Sentence parent.\n",
    "chunk.start                # Sentence index of first word.\n",
    "chunk.stop                 # Sentence index of last word + 1.\n",
    "chunk.string               # String of words (Unicode).\n",
    "chunk.words                # List of Word objects.\n",
    "chunk.lemmata              # List of word lemmata. \n",
    "chunk.head                 # Primary Word in the chunk.\n",
    "chunk.type                 # Chunk tag (NP, VP, PP, ...)\n",
    "chunk.role                 # Role tag (SBJ, OBJ, ...)\n",
    "chunk.relation             # Relation id, e.g. NP-SBJ-1 => 1.\n",
    "chunk.relations            # List of (id, role)-tuples.\n",
    "chunk.related              # List of Chunks with same relation id.\n",
    "chunk.subject              # NP-SBJ chunk with same id.\n",
    "chunk.object               # NP-OBJ chunk with same id.\n",
    "chunk.verb                 # VP chunk with same id.\n",
    "chunk.modifiers            # []\n",
    "chunk.conjunctions         # []\n",
    "chunk.pnp                  # PNPChunk parent, or None."
   ]
  },
  {
   "cell_type": "code",
   "execution_count": null,
   "metadata": {},
   "outputs": [],
   "source": [
    "for sentence in s:\n",
    "    for chunk in sentence.chunks:\n",
    "        print(chunk.string, chunk.role, chunk.subject, chunk.object, chunk.verb)\n",
    "        "
   ]
  },
  {
   "cell_type": "code",
   "execution_count": null,
   "metadata": {},
   "outputs": [],
   "source": [
    "for sentence in s:\n",
    "    for chunk in sentence.chunks:\n",
    "        print(chunk.string, chunk.relation, chunk.relations, chunk.related)"
   ]
  },
  {
   "cell_type": "code",
   "execution_count": null,
   "metadata": {},
   "outputs": [],
   "source": [
    "for sentence in s:\n",
    "    for chunk in sentence.chunks:\n",
    "        print(chunk.string, chunk.modifiers, chunk.conjunctions, chunk.pnp)"
   ]
  },
  {
   "cell_type": "code",
   "execution_count": null,
   "metadata": {},
   "outputs": [],
   "source": [
    "for sentence in s:\n",
    "    for chunk in sentence.chunks:\n",
    "        print(chunk.string, chunk.nearest(type='VP'), chunk.nearest(type='NP'))"
   ]
  },
  {
   "cell_type": "markdown",
   "metadata": {},
   "source": [
    "## Sentiment and Modality"
   ]
  },
  {
   "cell_type": "code",
   "execution_count": null,
   "metadata": {},
   "outputs": [],
   "source": [
    "# The sentiment() function returns a (polarity, subjectivity)-tuple for the given sentence,\n",
    "# based on the adjectives it contains, where polarity is a value between -1.0 and +1.0 and \n",
    "# subjectivity between 0.0 and 1.0. \n",
    "# The sentence can be a string, Text, Sentence, Chunk, Word or a Synset. \n",
    "from pattern.en import sentiment\n",
    "\n",
    "print sentiment(\n",
    "    \"The movie attempts to be surreal by incorporating various time paradoxes,\"\n",
    "    \"but it's presented in such a ridiculous way it's seriously boring.\") \n"
   ]
  },
  {
   "cell_type": "code",
   "execution_count": null,
   "metadata": {},
   "outputs": [],
   "source": [
    "# Grammatical mood refers to the use of auxiliary verbs (e.g., could, would) and adverbs \n",
    "# (e.g., definitely, maybe) to express uncertainty. \n",
    "\n",
    "# The mood() function returns either INDICATIVE, IMPERATIVE, CONDITIONAL or SUBJUNCTIVE \n",
    "# for a given parsed Sentence. See the table below for an overview of moods.\n",
    "\n",
    "# The modality() function returns the degree of certainty as a value between -1.0 and +1.0, \n",
    "# where values > +0.5 represent facts.\n",
    "\n",
    "from pattern.en import modality, mood, Sentence\n",
    "\n",
    "s = \"Some amino acids tend to be acidic while others may be basic.\" # weaseling\n",
    "s = parse(s, lemmata=True)\n",
    "s = Sentence(s)\n",
    "\n",
    "print modality(s)\n",
    "print mood(s)"
   ]
  },
  {
   "cell_type": "markdown",
   "metadata": {},
   "source": [
    "## Wordnet"
   ]
  },
  {
   "cell_type": "code",
   "execution_count": null,
   "metadata": {},
   "outputs": [],
   "source": [
    "from pattern.en import wordnet\n",
    "\n",
    "s = wordnet.synsets('bird')[0]\n",
    "\n",
    "print 'Definition:', s.gloss\n",
    "print '  Synonyms:', s.synonyms\n",
    "print ' Hypernyms:', s.hypernyms()\n",
    "print '  Hyponyms:', s.hyponyms()\n",
    "print '  Holonyms:', s.holonyms()\n",
    "print '  Meronyms:', s.meronyms()\n",
    "# print '  Antonyms:', s.antonyms()\n",
    "# If not given, error."
   ]
  },
  {
   "cell_type": "code",
   "execution_count": null,
   "metadata": {},
   "outputs": [],
   "source": [
    "from pattern.en import wordnet\n",
    "\n",
    "a = wordnet.synsets('cat')[0]\n",
    "b = wordnet.synsets('dog')[0]\n",
    "c = wordnet.synsets('box')[0]\n",
    "\n",
    "print wordnet.ancestor(a, b)\n",
    "print wordnet.similarity(a, a) \n",
    "print wordnet.similarity(a, b)\n",
    "print wordnet.similarity(a, c)  "
   ]
  },
  {
   "cell_type": "code",
   "execution_count": null,
   "metadata": {},
   "outputs": [],
   "source": []
  }
 ],
 "metadata": {
  "kernelspec": {
   "display_name": "Python 2",
   "language": "python",
   "name": "python2"
  },
  "language_info": {
   "codemirror_mode": {
    "name": "ipython",
    "version": 2
   },
   "file_extension": ".py",
   "mimetype": "text/x-python",
   "name": "python",
   "nbconvert_exporter": "python",
   "pygments_lexer": "ipython2",
   "version": "2.7.12"
  }
 },
 "nbformat": 4,
 "nbformat_minor": 2
}
