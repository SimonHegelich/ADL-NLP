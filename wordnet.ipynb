{
 "cells": [
  {
   "cell_type": "markdown",
   "metadata": {},
   "source": [
    "# Wordnet"
   ]
  },
  {
   "cell_type": "markdown",
   "metadata": {},
   "source": [
    "## concepts of wordnet"
   ]
  },
  {
   "cell_type": "code",
   "execution_count": 1,
   "metadata": {},
   "outputs": [],
   "source": [
    "from nltk.corpus import wordnet as wn\n",
    "import pandas as pd"
   ]
  },
  {
   "cell_type": "code",
   "execution_count": 2,
   "metadata": {},
   "outputs": [],
   "source": [
    "term = \"fruit\"\n",
    "synsets = wn.synsets(term)"
   ]
  },
  {
   "cell_type": "code",
   "execution_count": 3,
   "metadata": {},
   "outputs": [
    {
     "name": "stdout",
     "output_type": "stream",
     "text": [
      "('Synset: ', Synset('fruit.n.01'))\n",
      "('POS: ', u'noun.plant')\n",
      "('Definition: ', u'the ripened reproductive body of a seed plant')\n",
      "('Lemmas: ', [u'fruit'])\n",
      "('Examples: ', [])\n",
      "('Synset: ', Synset('yield.n.03'))\n",
      "('POS: ', u'noun.artifact')\n",
      "('Definition: ', u'an amount of a product')\n",
      "('Lemmas: ', [u'yield', u'fruit'])\n",
      "('Examples: ', [])\n",
      "('Synset: ', Synset('fruit.n.03'))\n",
      "('POS: ', u'noun.event')\n",
      "('Definition: ', u'the consequence of some effort or action')\n",
      "('Lemmas: ', [u'fruit'])\n",
      "('Examples: ', [u'he lived long enough to see the fruit of his policies'])\n",
      "('Synset: ', Synset('fruit.v.01'))\n",
      "('POS: ', u'verb.creation')\n",
      "('Definition: ', u'cause to bear fruit')\n",
      "('Lemmas: ', [u'fruit'])\n",
      "('Examples: ', [])\n",
      "('Synset: ', Synset('fruit.v.02'))\n",
      "('POS: ', u'verb.creation')\n",
      "('Definition: ', u'bear fruit')\n",
      "('Lemmas: ', [u'fruit'])\n",
      "('Examples: ', [u'the trees fruited early this year'])\n"
     ]
    }
   ],
   "source": [
    "for synset in synsets:\n",
    "    print(\"Synset: \", synset)\n",
    "    print(\"POS: \", synset.lexname())\n",
    "    print(\"Definition: \", synset.definition())\n",
    "    print(\"Lemmas: \", synset.lemma_names())\n",
    "    print(\"Examples: \", synset.examples())"
   ]
  },
  {
   "cell_type": "code",
   "execution_count": 4,
   "metadata": {},
   "outputs": [
    {
     "name": "stdout",
     "output_type": "stream",
     "text": [
      "(Synset('walk.v.01'), '-- entails -->', [Synset('step.v.01')])\n",
      "(Synset('eat.v.01'), '-- entails -->', [Synset('chew.v.01'), Synset('swallow.v.01')])\n",
      "(Synset('digest.v.01'), '-- entails -->', [Synset('consume.v.02')])\n"
     ]
    }
   ],
   "source": [
    "for action in [\"walk\", \"eat\", \"digest\"]:\n",
    "    action_syn = wn.synsets(action, pos=\"v\")[0]\n",
    "    print(action_syn, \"-- entails -->\", action_syn.entailments())"
   ]
  },
  {
   "cell_type": "code",
   "execution_count": 5,
   "metadata": {},
   "outputs": [
    {
     "name": "stdout",
     "output_type": "stream",
     "text": [
      "(u'bank.n.01', '-', u'sloping land (especially the slope beside a body of water)')\n",
      "(u'depository_financial_institution.n.01', '-', u'a financial institution that accepts deposits and channels the money into lending activities')\n",
      "(u'bank.n.03', '-', u'a long ridge or pile')\n",
      "(u'bank.n.04', '-', u'an arrangement of similar objects in a row or in tiers')\n",
      "(u'bank.n.05', '-', u'a supply or stock held in reserve for future use (especially in emergencies)')\n",
      "(u'bank.n.06', '-', u'the funds held by a gambling house or the dealer in some gambling games')\n",
      "(u'bank.n.07', '-', u'a slope in the turn of a road or track; the outside is higher than the inside in order to reduce the effects of centrifugal force')\n",
      "(u'savings_bank.n.02', '-', u'a container (usually with a slot in the top) for keeping money at home')\n",
      "(u'bank.n.09', '-', u'a building in which the business of banking transacted')\n",
      "(u'bank.n.10', '-', u'a flight maneuver; aircraft tips laterally about its longitudinal axis (especially in turning)')\n",
      "(u'bank.v.01', '-', u'tip laterally')\n",
      "(u'bank.v.02', '-', u'enclose with a bank')\n",
      "(u'bank.v.03', '-', u'do business with a bank or keep an account at a bank')\n",
      "(u'bank.v.04', '-', u'act as the banker in a game or in gambling')\n",
      "(u'bank.v.05', '-', u'be in the banking business')\n",
      "(u'deposit.v.02', '-', u'put into a bank account')\n",
      "(u'bank.v.07', '-', u'cover with ashes so to control the rate of burning')\n",
      "(u'trust.v.01', '-', u'have confidence or faith in')\n"
     ]
    }
   ],
   "source": [
    "for synset in wn.synsets(\"bank\"):\n",
    "    print(synset.name(),\"-\", synset.definition())"
   ]
  },
  {
   "cell_type": "code",
   "execution_count": 8,
   "metadata": {},
   "outputs": [
    {
     "name": "stdout",
     "output_type": "stream",
     "text": [
      "[Synset('large.n.01'), Synset('large.a.01'), Synset('large.s.02'), Synset('bombastic.s.01'), Synset('big.s.11'), Synset('big.s.05'), Synset('large.s.06'), Synset('big.s.13'), Synset('large.r.01'), Synset('large.r.02'), Synset('boastfully.r.01')]\n",
      "('Synonym: ', u'large.a.01')\n",
      "('Defintion: ', u'above average in size or number or quantity or magnitude or extent')\n",
      "('Antonym: ', u'small.a.01')\n",
      "('Defintion: ', u'limited or below average in number or quantity or magnitude or extent')\n"
     ]
    }
   ],
   "source": [
    "term = \"large\"\n",
    "synsets = wn.synsets(term)\n",
    "print(synsets)\n",
    "adj = synsets[1]\n",
    "adj = adj.lemmas()[0]\n",
    "adj_synonym = adj.synset()\n",
    "adj_antonym = adj.antonyms()[0].synset()\n",
    "print(\"Synonym: \", adj_synonym.name())\n",
    "print(\"Defintion: \", adj_synonym.definition())\n",
    "print(\"Antonym: \", adj_antonym.name())\n",
    "print(\"Defintion: \", adj_antonym.definition())"
   ]
  },
  {
   "cell_type": "code",
   "execution_count": 9,
   "metadata": {},
   "outputs": [
    {
     "name": "stdout",
     "output_type": "stream",
     "text": [
      "('Synonym: ', u'rich_people.n.01')\n",
      "('Defintion: ', u'people who have possessions and wealth (considered as a group)')\n",
      "('Antonym: ', u'poor_people.n.01')\n",
      "('Defintion: ', u'people without possessions or wealth (considered as a group)')\n",
      "('Synonym: ', u'rich.a.01')\n",
      "('Defintion: ', u'possessing material wealth')\n",
      "('Antonym: ', u'poor.a.02')\n",
      "('Defintion: ', u'having little money or few possessions')\n",
      "('Synonym: ', u'rich.a.02')\n",
      "('Defintion: ', u'having an abundant supply of desirable qualities or substances (especially natural resources)')\n",
      "('Antonym: ', u'poor.a.04')\n",
      "('Defintion: ', u'lacking in specific resources, qualities or substances')\n"
     ]
    }
   ],
   "source": [
    "term = \"rich\"\n",
    "synsets = wn.synsets(term)[:3]\n",
    "for adj in synsets:\n",
    "    adj = adj.lemmas()[0]\n",
    "    adj_synonym = adj.synset()\n",
    "    adj_antonym = adj.antonyms()[0].synset()\n",
    "    print(\"Synonym: \", adj_synonym.name())\n",
    "    print(\"Defintion: \", adj_synonym.definition())\n",
    "    print(\"Antonym: \", adj_antonym.name())\n",
    "    print(\"Defintion: \", adj_antonym.definition())"
   ]
  },
  {
   "cell_type": "code",
   "execution_count": 10,
   "metadata": {},
   "outputs": [
    {
     "name": "stdout",
     "output_type": "stream",
     "text": [
      "('Name: ', u'tree.n.01')\n",
      "('Definition: ', <bound method Synset.definition of Synset('tree.n.01')>)\n",
      "('Total hyponyms: ', 180)\n",
      "Sample hyponyms: \n",
      "(u'aalii.n.01', ' - ', u'a small Hawaiian tree with hard dark wood')\n",
      "(u'acacia.n.01', ' - ', u'any of various spiny trees or shrubs of the genus Acacia')\n",
      "(u'african_walnut.n.01', ' - ', u'tropical African timber tree with wood that resembles mahogany')\n",
      "(u'albizzia.n.01', ' - ', u'any of numerous trees of the genus Albizia')\n",
      "(u'alder.n.02', ' - ', u'north temperate shrubs or trees having toothed leaves and conelike fruit; bark is used in tanning and dyeing and the wood is rot-resistant')\n",
      "(u'angelim.n.01', ' - ', u'any of several tropical American trees of the genus Andira')\n",
      "(u'angiospermous_tree.n.01', ' - ', u'any tree having seeds and ovules contained in the ovary')\n",
      "(u'anise_tree.n.01', ' - ', u'any of several evergreen shrubs and small trees of the genus Illicium')\n",
      "(u'arbor.n.01', ' - ', u'tree (as opposed to shrub)')\n",
      "(u'aroeira_blanca.n.01', ' - ', u'small resinous tree or shrub of Brazil')\n"
     ]
    }
   ],
   "source": [
    "term = \"conscinc\"\n",
    "synsets = wn.synsets(term)\n",
    "word = synsets[0]\n",
    "print(\"Name: \", word.name())\n",
    "print(\"Definition: \", word.definition)\n",
    "hyponyms = word.hyponyms()\n",
    "print(\"Total hyponyms: \", len(hyponyms))\n",
    "print(\"Sample hyponyms: \")\n",
    "for hyponym in hyponyms[:10]:\n",
    "    print(hyponym.name(), \" - \", hyponym.definition())"
   ]
  },
  {
   "cell_type": "code",
   "execution_count": 11,
   "metadata": {},
   "outputs": [
    {
     "name": "stdout",
     "output_type": "stream",
     "text": [
      "[Synset('woody_plant.n.01')]\n"
     ]
    }
   ],
   "source": [
    "hypernyms = word.hypernyms()\n",
    "print(hypernyms)"
   ]
  },
  {
   "cell_type": "code",
   "execution_count": 12,
   "metadata": {},
   "outputs": [
    {
     "name": "stdout",
     "output_type": "stream",
     "text": [
      "entity.n.01 -> physical_entity.n.01 -> object.n.01 -> whole.n.02 -> living_thing.n.01 -> organism.n.01 -> plant.n.02 -> vascular_plant.n.01 -> woody_plant.n.01 -> tree.n.01\n"
     ]
    }
   ],
   "source": [
    "#get total hierarchy\n",
    "hypernym_paths = word.hypernym_paths()\n",
    "print(\" -> \".join(synset.name() for synset in hypernym_paths[0]))"
   ]
  },
  {
   "cell_type": "code",
   "execution_count": 13,
   "metadata": {},
   "outputs": [
    {
     "name": "stdout",
     "output_type": "stream",
     "text": [
      "('Number of holonyms: ', 1)\n",
      "('Member holonyms for', [u'tree.n.01'], ':-')\n",
      "(u'forest.n.01', ' - ', u'the trees and other plants in a large densely wooded area')\n"
     ]
    }
   ],
   "source": [
    "member_holonyms = word.member_holonyms()\n",
    "print(\"Number of holonyms: \", len(member_holonyms))\n",
    "print(\"Member holonyms for\", [word.name()],\":-\")\n",
    "for holonym in member_holonyms:\n",
    "    print(holonym.name(), \" - \", holonym.definition())"
   ]
  },
  {
   "cell_type": "code",
   "execution_count": 14,
   "metadata": {},
   "outputs": [
    {
     "name": "stdout",
     "output_type": "stream",
     "text": [
      "('Number of meronyms: ', 5)\n",
      "Member meronyms for [word]:-\n",
      "(u'burl.n.02', ' - ', u'a large rounded outgrowth on the trunk or branch of a tree')\n",
      "(u'crown.n.07', ' - ', u'the upper branches and leaves of a tree or other plant')\n",
      "(u'limb.n.02', ' - ', u'any of the main branches arising from the trunk or a bough of a tree')\n",
      "(u'stump.n.01', ' - ', u'the base part of a tree that remains standing after the tree has been felled')\n",
      "(u'trunk.n.01', ' - ', u'the main stem of a tree; usually covered with bark; the bole is usually the part that is commercially useful for lumber')\n"
     ]
    }
   ],
   "source": [
    "part_meronyms = word.part_meronyms()\n",
    "print(\"Number of meronyms: \", len(part_meronyms))\n",
    "print(\"Member meronyms for [word]:-\")\n",
    "for meronym in part_meronyms:\n",
    "    print(meronym.name(), \" - \", meronym.definition())"
   ]
  },
  {
   "cell_type": "code",
   "execution_count": 15,
   "metadata": {},
   "outputs": [
    {
     "name": "stdout",
     "output_type": "stream",
     "text": [
      "('Number of meronyms: ', 2)\n",
      "Member meronyms for [word]:-\n",
      "(u'heartwood.n.01', ' - ', u'the older inactive central wood of a tree or woody plant; usually darker and denser than the surrounding sapwood')\n",
      "(u'sapwood.n.01', ' - ', u'newly formed outer wood lying between the cambium and the heartwood of a tree or woody plant; usually light colored; active in water conduction')\n"
     ]
    }
   ],
   "source": [
    "substance_meronyms = word.substance_meronyms()\n",
    "print(\"Number of meronyms: \", len(substance_meronyms))\n",
    "print(\"Member meronyms for [word]:-\")\n",
    "for meronym in substance_meronyms:\n",
    "    print(meronym.name(), \" - \", meronym.definition())"
   ]
  },
  {
   "cell_type": "markdown",
   "metadata": {},
   "source": [
    "## Semantic Relationships and Similarities"
   ]
  },
  {
   "cell_type": "code",
   "execution_count": 17,
   "metadata": {},
   "outputs": [],
   "source": [
    "word1 = wn.synset(\"tree.n.01\")\n",
    "word2 = wn.synset(\"lion.n.01\")\n",
    "word3 = wn.synset(\"tiger.n.02\")\n",
    "word4 = wn.synset(\"cat.n.01\")\n",
    "word5 = wn.synset(\"dog.n.01\")"
   ]
  },
  {
   "cell_type": "code",
   "execution_count": 18,
   "metadata": {},
   "outputs": [
    {
     "name": "stdout",
     "output_type": "stream",
     "text": [
      "(u'tree', '-', u'a tall perennial woody plant having a main trunk and branches forming a distinct elevated crown; includes both gymnosperms and angiosperms')\n",
      "(u'lion', '-', u'large gregarious predatory feline of Africa and India having a tawny coat with a shaggy mane in the male')\n",
      "(u'tiger', '-', u'large feline of forests in most of Asia having a tawny coat with black stripes; endangered')\n",
      "(u'cat', '-', u'feline mammal usually having thick soft fur and no ability to roar: domestic cats; wildcats')\n",
      "(u'dog', '-', u'a member of the genus Canis (probably descended from the common wolf) that has been domesticated by man since prehistoric times; occurs in many breeds')\n"
     ]
    }
   ],
   "source": [
    "# create enteties and extract names and definitions\n",
    "entities = [word1, word2, word3, word4, word5]\n",
    "entity_names = [entity.name().split(\".\")[0] for entity in entities]\n",
    "entity_definitions = [entity.definition() for entity in entities]\n",
    "\n",
    "for entity, definition in zip(entity_names, entity_definitions):\n",
    "    print(entity, \"-\", definition)"
   ]
  },
  {
   "cell_type": "code",
   "execution_count": 19,
   "metadata": {},
   "outputs": [
    {
     "name": "stdout",
     "output_type": "stream",
     "text": [
      "           tree       lion      tiger        cat        dog\n",
      "tree       tree   organism   organism   organism   organism\n",
      "lion   organism       lion    big_cat     feline  carnivore\n",
      "tiger  organism    big_cat      tiger     feline  carnivore\n",
      "cat    organism     feline     feline        cat  carnivore\n",
      "dog    organism  carnivore  carnivore  carnivore        dog\n"
     ]
    }
   ],
   "source": [
    "common_hypernyms = []\n",
    "for entity in entities: \n",
    "    #get pairwise lowes common hypernyms\n",
    "    common_hypernyms.append([entity.lowest_common_hypernyms(compared_entity)[0].name().split(\".\")[0] \n",
    "                             for compared_entity in entities])\n",
    "\n",
    "# build pairwise matrix\n",
    "common_hypernym_frame = pd.DataFrame(common_hypernyms,\n",
    "                                   index=entity_names,\n",
    "                                   columns=entity_names)\n",
    "print(common_hypernym_frame)"
   ]
  },
  {
   "cell_type": "code",
   "execution_count": 20,
   "metadata": {},
   "outputs": [
    {
     "name": "stdout",
     "output_type": "stream",
     "text": [
      "       tree  lion  tiger   cat   dog\n",
      "tree   1.00  0.07   0.07  0.08  0.13\n",
      "lion   0.07  1.00   0.33  0.25  0.17\n",
      "tiger  0.07  0.33   1.00  0.25  0.17\n",
      "cat    0.08  0.25   0.25  1.00  0.20\n",
      "dog    0.13  0.17   0.17  0.20  1.00\n"
     ]
    }
   ],
   "source": [
    "# path similarities\n",
    "similarities = []\n",
    "for entity in entities:\n",
    "    similarities.append([round(entity.path_similarity(compared_entity), 2)\n",
    "                        for compared_entity in entities])\n",
    "similarity_frame = pd.DataFrame(similarities,\n",
    "                               index=entity_names,\n",
    "                               columns=entity_names)\n",
    "print(similarity_frame)"
   ]
  },
  {
   "cell_type": "markdown",
   "metadata": {},
   "source": [
    "## Word Sense Disambiguation"
   ]
  },
  {
   "cell_type": "code",
   "execution_count": 21,
   "metadata": {},
   "outputs": [],
   "source": [
    "from nltk.wsd import lesk\n",
    "from nltk import word_tokenize"
   ]
  },
  {
   "cell_type": "code",
   "execution_count": 22,
   "metadata": {},
   "outputs": [],
   "source": [
    "samples = [(\"The fruits on that plant have ripened\", \"n\"),\n",
    "          (\"He finally reaped the fruit of his hard work as he won the race\", \"n\")]\n",
    "word = \"fruit\""
   ]
  },
  {
   "cell_type": "code",
   "execution_count": 23,
   "metadata": {},
   "outputs": [],
   "source": [
    "def getDisamb(samples, word):\n",
    "    for sentence, pos_tag in samples:\n",
    "        word_syn = lesk(word_tokenize(sentence.lower()), word, pos_tag)\n",
    "        print(\"Sentence: \", sentence)\n",
    "        print(\"Word synset: \", word_syn)\n",
    "        print(\"Corresponding definition: \", word_syn.definition())\n",
    "        print()"
   ]
  },
  {
   "cell_type": "code",
   "execution_count": 24,
   "metadata": {},
   "outputs": [
    {
     "name": "stdout",
     "output_type": "stream",
     "text": [
      "('Sentence: ', 'The fruits on that plant have ripened')\n",
      "('Word synset: ', Synset('fruit.n.01'))\n",
      "('Corresponding definition: ', u'the ripened reproductive body of a seed plant')\n",
      "()\n",
      "('Sentence: ', 'He finally reaped the fruit of his hard work as he won the race')\n",
      "('Word synset: ', Synset('fruit.n.03'))\n",
      "('Corresponding definition: ', u'the consequence of some effort or action')\n",
      "()\n"
     ]
    }
   ],
   "source": [
    "getDisamb(samples, word)"
   ]
  },
  {
   "cell_type": "code",
   "execution_count": 25,
   "metadata": {},
   "outputs": [
    {
     "name": "stdout",
     "output_type": "stream",
     "text": [
      "('Sentence: ', 'Lead is a very soft malleable metal')\n",
      "('Word synset: ', Synset('lead.n.02'))\n",
      "('Corresponding definition: ', u'a soft heavy toxic malleable metallic element; bluish white when freshly cut but tarnishes readily to dull grey')\n",
      "()\n",
      "('Sentence: ', 'John is the actor who plays the lead in that movie')\n",
      "('Word synset: ', Synset('star.n.04'))\n",
      "('Corresponding definition: ', u'an actor who plays a principal role')\n",
      "()\n",
      "('Sentence: ', 'This road leads to nowhere')\n",
      "('Word synset: ', Synset('run.v.23'))\n",
      "('Corresponding definition: ', u'cause something to pass or lead somewhere')\n",
      "()\n"
     ]
    }
   ],
   "source": [
    "samples = [(\"Lead is a very soft malleable metal\", \"n\"),\n",
    "          (\"John is the actor who plays the lead in that movie\", \"n\"),\n",
    "          (\"This road leads to nowhere\", \"v\")]\n",
    "word = \"lead\"\n",
    "\n",
    "getDisamb(samples,word)"
   ]
  },
  {
   "cell_type": "code",
   "execution_count": null,
   "metadata": {},
   "outputs": [],
   "source": []
  }
 ],
 "metadata": {
  "kernelspec": {
   "display_name": "Python 2",
   "language": "python",
   "name": "python2"
  },
  "language_info": {
   "codemirror_mode": {
    "name": "ipython",
    "version": 2
   },
   "file_extension": ".py",
   "mimetype": "text/x-python",
   "name": "python",
   "nbconvert_exporter": "python",
   "pygments_lexer": "ipython2",
   "version": "2.7.12"
  }
 },
 "nbformat": 4,
 "nbformat_minor": 2
}
