{
 "cells": [
  {
   "cell_type": "markdown",
   "metadata": {},
   "source": [
    "# Tagging"
   ]
  },
  {
   "cell_type": "markdown",
   "metadata": {},
   "source": [
    "## Part of Speech Tagging POS"
   ]
  },
  {
   "cell_type": "code",
   "execution_count": null,
   "metadata": {},
   "outputs": [
    {
     "name": "stdout",
     "output_type": "stream",
     "text": [
      "[('Artificial', u'ADJ'), ('intelligence', u'NOUN'), ('(', u'.'), ('AI', u'NOUN'), (')', u'.'), (',', u'.'), ('sometimes', u'ADV'), ('called', u'VERB'), ('machine', u'NOUN'), ('intelligence', u'NOUN'), (',', u'.'), ('is', u'VERB'), ('intelligence', u'NOUN'), ('demonstrated', u'VERB'), ('by', u'ADP'), ('machines', u'NOUN'), (',', u'.'), ('in', u'ADP'), ('contrast', u'NOUN'), ('to', u'PRT'), ('the', u'DET'), ('natural', u'ADJ'), ('intelligence', u'NOUN'), ('displayed', u'VERB'), ('by', u'ADP'), ('humans', u'NOUN'), ('and', u'CONJ'), ('other', u'ADJ'), ('animals', u'NOUN'), ('.', u'.')]\n"
     ]
    }
   ],
   "source": [
    "import nltk\n",
    "sentence = \"Artificial intelligence (AI), sometimes called machine intelligence, is intelligence demonstrated by machines, in contrast to the natural intelligence displayed by humans and other animals.\"\n",
    "tokens = nltk.word_tokenize(sentence)\n",
    "tagged_sent = nltk.pos_tag(tokens, tagset='universal')\n",
    "print(tagged_sent)"
   ]
  },
  {
   "cell_type": "code",
   "execution_count": 2,
   "metadata": {},
   "outputs": [
    {
     "name": "stdout",
     "output_type": "stream",
     "text": [
      "[(u'Artificial', u'JJ'), (u'intelligence', u'NN'), (u'(', u'('), (u'AI', u'NNP'), (u')', u')'), (u',', u','), (u'sometimes', u'RB'), (u'called', u'VBN'), (u'machine', u'NN'), (u'intelligence', u'NN'), (u',', u','), (u'is', u'VBZ'), (u'intelligence', u'NN'), (u'demonstrated', u'VBN'), (u'by', u'IN'), (u'machines', u'NNS'), (u',', u','), (u'in', u'IN'), (u'contrast', u'NN'), (u'to', u'TO'), (u'the', u'DT'), (u'natural', u'JJ'), (u'intelligence', u'NN'), (u'displayed', u'VBN'), (u'by', u'IN'), (u'humans', u'NNS'), (u'and', u'CC'), (u'other', u'JJ'), (u'animals', u'NNS'), (u'.', u'.')]\n"
     ]
    }
   ],
   "source": [
    "from pattern.en import tag\n",
    "tagged_sent2 = tag(sentence)\n",
    "print(tagged_sent2)"
   ]
  },
  {
   "cell_type": "markdown",
   "metadata": {},
   "source": [
    "## Shallow Parser"
   ]
  },
  {
   "cell_type": "code",
   "execution_count": 3,
   "metadata": {
    "scrolled": true
   },
   "outputs": [
    {
     "name": "stdout",
     "output_type": "stream",
     "text": [
      "[Sentence('Artificial/JJ/B-NP/O intelligence/NN/I-NP/O (/(/O/O AI/NNP/B-NP/O )/)/O/O ,/,/O/O sometimes/RB/B-VP/O called/VBN/I-VP/O machine/NN/B-NP/O intelligence/NN/I-NP/O ,/,/O/O is/VBZ/B-VP/O intelligence/NN/B-NP/O demonstrated/VBN/B-VP/O by/IN/B-PP/B-PNP machines/NNS/B-NP/I-PNP ,/,/O/O in/IN/B-PP/B-PNP contrast/NN/B-NP/I-PNP to/TO/O/O the/DT/B-NP/O natural/JJ/I-NP/O intelligence/NN/I-NP/O displayed/VBN/B-VP/O by/IN/B-PP/B-PNP humans/NNS/B-NP/I-PNP and/CC/I-NP/I-PNP other/JJ/I-NP/I-PNP animals/NNS/I-NP/I-PNP ././O/O')]\n"
     ]
    }
   ],
   "source": [
    "from pattern.en import parsetree\n",
    "tree = parsetree(sentence)\n",
    "print(tree)"
   ]
  },
  {
   "cell_type": "code",
   "execution_count": 4,
   "metadata": {},
   "outputs": [
    {
     "name": "stdout",
     "output_type": "stream",
     "text": [
      "[Chunk('Artificial intelligence/NP'), Chunk('AI/NP'), Chunk('sometimes called/VP'), Chunk('machine intelligence/NP'), Chunk('is/VP'), Chunk('intelligence/NP'), Chunk('demonstrated/VP'), Chunk('by/PP'), Chunk('machines/NP'), Chunk('in/PP'), Chunk('contrast/NP'), Chunk('the natural intelligence/NP'), Chunk('displayed/VP'), Chunk('by/PP'), Chunk('humans and other animals/NP')]\n"
     ]
    }
   ],
   "source": [
    "for sentence_tree in tree:\n",
    "    print sentence_tree.chunks"
   ]
  },
  {
   "cell_type": "code",
   "execution_count": 5,
   "metadata": {},
   "outputs": [
    {
     "name": "stdout",
     "output_type": "stream",
     "text": [
      "NP -> [(u'Artificial', u'JJ'), (u'intelligence', u'NN')]\n",
      "NP -> [(u'AI', u'NNP')]\n",
      "VP -> [(u'sometimes', u'RB'), (u'called', u'VBN')]\n",
      "NP -> [(u'machine', u'NN'), (u'intelligence', u'NN')]\n",
      "VP -> [(u'is', u'VBZ')]\n",
      "NP -> [(u'intelligence', u'NN')]\n",
      "VP -> [(u'demonstrated', u'VBN')]\n",
      "PP -> [(u'by', u'IN')]\n",
      "NP -> [(u'machines', u'NNS')]\n",
      "PP -> [(u'in', u'IN')]\n",
      "NP -> [(u'contrast', u'NN')]\n",
      "NP -> [(u'the', u'DT'), (u'natural', u'JJ'), (u'intelligence', u'NN')]\n",
      "VP -> [(u'displayed', u'VBN')]\n",
      "PP -> [(u'by', u'IN')]\n",
      "NP -> [(u'humans', u'NNS'), (u'and', u'CC'), (u'other', u'JJ'), (u'animals', u'NNS')]\n"
     ]
    }
   ],
   "source": [
    "for sentence_tree in tree:\n",
    "    for chunk in sentence_tree.chunks:\n",
    "        print chunk.type, '->', [(word.string, word.type) for word in chunk.words]"
   ]
  },
  {
   "cell_type": "code",
   "execution_count": 6,
   "metadata": {},
   "outputs": [],
   "source": [
    "from pattern.en import parsetree, Chunk\n",
    "from nltk.tree import Tree\n",
    "\n",
    "def create_sentence_tree(sentence, lemmatize=False):\n",
    "    sentence_tree = parsetree(sentence,\n",
    "                             relations=True,\n",
    "                             lemmata=lemmatize)\n",
    "    return sentence_tree[0]\n",
    "\n",
    "def get_sentence_tree_constituents(sentence_tree):\n",
    "    return sentence_tree.constituents()\n",
    "\n",
    "def process_sentence_tree(sentence_tree):\n",
    "    \n",
    "    tree_constituents = get_sentence_tree_constituents(sentence_tree)\n",
    "    processed_tree = [\n",
    "                        (item.type,\n",
    "                         [\n",
    "                             (w.string, w.type)\n",
    "                             for w in item.words\n",
    "                         ]\n",
    "                        )\n",
    "                        if type(item) == Chunk\n",
    "                        else ('-',\n",
    "                              [\n",
    "                                   (item.string, item.type)\n",
    "                              ]\n",
    "                             )\n",
    "                             for item in tree_constituents\n",
    "                    ]\n",
    "    \n",
    "    return processed_tree\n",
    "\n",
    "def print_sentence_tree(sentence_tree):\n",
    "    \n",
    "\n",
    "    processed_tree = process_sentence_tree(sentence_tree)\n",
    "    processed_tree = [\n",
    "                        Tree( item[0],\n",
    "                             [\n",
    "                                 Tree(x[1], [x[0]])\n",
    "                                 for x in item[1]\n",
    "                             ]\n",
    "                            )\n",
    "                            for item in processed_tree\n",
    "                     ]\n",
    "\n",
    "    tree = Tree('S', processed_tree )\n",
    "    print tree\n",
    "    \n",
    "def visualize_sentence_tree(sentence_tree):\n",
    "    \n",
    "    processed_tree = process_sentence_tree(sentence_tree)\n",
    "    processed_tree = [\n",
    "                        Tree( item[0],\n",
    "                             [\n",
    "                                 Tree(x[1], [x[0]])\n",
    "                                 for x in item[1]\n",
    "                             ]\n",
    "                            )\n",
    "                            for item in processed_tree\n",
    "                     ]\n",
    "    tree = Tree('S', processed_tree )\n",
    "    tree.draw()"
   ]
  },
  {
   "cell_type": "code",
   "execution_count": 7,
   "metadata": {},
   "outputs": [
    {
     "name": "stdout",
     "output_type": "stream",
     "text": [
      "Sentence('Artificial/JJ/B-NP/O/O intelligence/NN/I-NP/O/O (/(/O/O/O AI/NNP/B-NP/O/O )/)/O/O/O ,/,/O/O/O sometimes/RB/B-VP/O/VP-1 called/VBN/I-VP/O/VP-1 machine/NN/B-NP/O/NP-OBJ-1 intelligence/NN/I-NP/O/NP-OBJ-1 ,/,/O/O/O is/VBZ/B-VP/O/VP-2 intelligence/NN/B-NP/O/NP-OBJ-2*NP-SBJ-3 demonstrated/VBN/B-VP/O/VP-3 by/IN/B-PP/B-PNP/O machines/NNS/B-NP/I-PNP/O ,/,/O/O/O in/IN/B-PP/B-PNP/O contrast/NN/B-NP/I-PNP/O to/TO/O/O/O the/DT/B-NP/O/NP-SBJ-4 natural/JJ/I-NP/O/NP-SBJ-4 intelligence/NN/I-NP/O/NP-SBJ-4 displayed/VBN/B-VP/O/VP-4 by/IN/B-PP/B-PNP/O humans/NNS/B-NP/I-PNP/O and/CC/I-NP/I-PNP/O other/JJ/I-NP/I-PNP/O animals/NNS/I-NP/I-PNP/O ././O/O/O')\n"
     ]
    }
   ],
   "source": [
    "t = create_sentence_tree(sentence)\n",
    "print t"
   ]
  },
  {
   "cell_type": "code",
   "execution_count": 8,
   "metadata": {},
   "outputs": [
    {
     "data": {
      "text/plain": [
       "[(u'NP', [(u'Artificial', u'JJ'), (u'intelligence', u'NN')]),\n",
       " ('-', [(u'(', u'(')]),\n",
       " (u'NP', [(u'AI', u'NNP')]),\n",
       " ('-', [(u')', u')')]),\n",
       " ('-', [(u',', u',')]),\n",
       " (u'VP', [(u'sometimes', u'RB'), (u'called', u'VBN')]),\n",
       " (u'NP', [(u'machine', u'NN'), (u'intelligence', u'NN')]),\n",
       " ('-', [(u',', u',')]),\n",
       " (u'VP', [(u'is', u'VBZ')]),\n",
       " (u'NP', [(u'intelligence', u'NN')]),\n",
       " (u'VP', [(u'demonstrated', u'VBN')]),\n",
       " (u'PP', [(u'by', u'IN')]),\n",
       " (u'NP', [(u'machines', u'NNS')]),\n",
       " ('-', [(u',', u',')]),\n",
       " (u'PP', [(u'in', u'IN')]),\n",
       " (u'NP', [(u'contrast', u'NN')]),\n",
       " ('-', [(u'to', u'TO')]),\n",
       " (u'NP', [(u'the', u'DT'), (u'natural', u'JJ'), (u'intelligence', u'NN')]),\n",
       " (u'VP', [(u'displayed', u'VBN')]),\n",
       " (u'PP', [(u'by', u'IN')]),\n",
       " (u'NP',\n",
       "  [(u'humans', u'NNS'),\n",
       "   (u'and', u'CC'),\n",
       "   (u'other', u'JJ'),\n",
       "   (u'animals', u'NNS')]),\n",
       " ('-', [(u'.', u'.')])]"
      ]
     },
     "execution_count": 8,
     "metadata": {},
     "output_type": "execute_result"
    }
   ],
   "source": [
    "pt = process_sentence_tree(t)\n",
    "pt"
   ]
  },
  {
   "cell_type": "code",
   "execution_count": 9,
   "metadata": {},
   "outputs": [
    {
     "name": "stdout",
     "output_type": "stream",
     "text": [
      "(S\n",
      "  (NP (JJ Artificial) (NN intelligence))\n",
      "  (- (( ())\n",
      "  (NP (NNP AI))\n",
      "  (- () )))\n",
      "  (- (, ,))\n",
      "  (VP (RB sometimes) (VBN called))\n",
      "  (NP (NN machine) (NN intelligence))\n",
      "  (- (, ,))\n",
      "  (VP (VBZ is))\n",
      "  (NP (NN intelligence))\n",
      "  (VP (VBN demonstrated))\n",
      "  (PP (IN by))\n",
      "  (NP (NNS machines))\n",
      "  (- (, ,))\n",
      "  (PP (IN in))\n",
      "  (NP (NN contrast))\n",
      "  (- (TO to))\n",
      "  (NP (DT the) (JJ natural) (NN intelligence))\n",
      "  (VP (VBN displayed))\n",
      "  (PP (IN by))\n",
      "  (NP (NNS humans) (CC and) (JJ other) (NNS animals))\n",
      "  (- (. .)))\n"
     ]
    }
   ],
   "source": [
    "print_sentence_tree(t)"
   ]
  },
  {
   "cell_type": "code",
   "execution_count": 10,
   "metadata": {},
   "outputs": [],
   "source": [
    "#visualize_sentence_tree(t)"
   ]
  },
  {
   "cell_type": "code",
   "execution_count": 11,
   "metadata": {},
   "outputs": [],
   "source": [
    "from IPython.display import display\n",
    "def visualize_sentence_tree_inline(sentence_tree):\n",
    "    \n",
    "    processed_tree = process_sentence_tree(sentence_tree)\n",
    "    processed_tree = [\n",
    "                        Tree( item[0],\n",
    "                             [\n",
    "                                 Tree(x[1], [x[0]])\n",
    "                                 for x in item[1]\n",
    "                             ]\n",
    "                            )\n",
    "                            for item in processed_tree\n",
    "                     ]\n",
    "    tree = Tree('S', processed_tree )\n",
    "    display(tree)"
   ]
  },
  {
   "cell_type": "code",
   "execution_count": 14,
   "metadata": {},
   "outputs": [
    {
     "data": {
      "image/png": "[encoded data removed]",
      "text/plain": [
       "Tree('S', [Tree('NP', [Tree('JJ', ['Artificial']), Tree('NN', ['intelligence'])]), Tree('-', [Tree('(', ['('])]), Tree('NP', [Tree('NNP', ['AI'])]), Tree('-', [Tree(')', [')'])]), Tree('-', [Tree(',', [','])]), Tree('VP', [Tree('RB', ['sometimes']), Tree('VBN', ['called'])]), Tree('NP', [Tree('NN', ['machine']), Tree('NN', ['intelligence'])]), Tree('-', [Tree(',', [','])]), Tree('VP', [Tree('VBZ', ['is'])]), Tree('NP', [Tree('NN', ['intelligence'])]), Tree('VP', [Tree('VBN', ['demonstrated'])]), Tree('PP', [Tree('IN', ['by'])]), Tree('NP', [Tree('NNS', ['machines'])]), Tree('-', [Tree(',', [','])]), Tree('PP', [Tree('IN', ['in'])]), Tree('NP', [Tree('NN', ['contrast'])]), Tree('-', [Tree('TO', ['to'])]), Tree('NP', [Tree('DT', ['the']), Tree('JJ', ['natural']), Tree('NN', ['intelligence'])]), Tree('VP', [Tree('VBN', ['displayed'])]), Tree('PP', [Tree('IN', ['by'])]), Tree('NP', [Tree('NNS', ['humans']), Tree('CC', ['and']), Tree('JJ', ['other']), Tree('NNS', ['animals'])]), Tree('-', [Tree('.', ['.'])])])"
      ]
     },
     "metadata": {},
     "output_type": "display_data"
    }
   ],
   "source": [
    "visualize_sentence_tree_inline(t)"
   ]
  },
  {
   "cell_type": "markdown",
   "metadata": {},
   "source": [
    "## Dependency Parser"
   ]
  },
  {
   "cell_type": "markdown",
   "metadata": {},
   "source": [
    "How do words depend on each other?"
   ]
  },
  {
   "cell_type": "code",
   "execution_count": 12,
   "metadata": {},
   "outputs": [],
   "source": [
    "import spacy\n",
    "parser = spacy.load('en')\n"
   ]
  },
  {
   "cell_type": "code",
   "execution_count": 13,
   "metadata": {},
   "outputs": [],
   "source": [
    "parsed_sent = parser(unicode(sentence))"
   ]
  },
  {
   "cell_type": "code",
   "execution_count": 14,
   "metadata": {
    "scrolled": true
   },
   "outputs": [
    {
     "name": "stdout",
     "output_type": "stream",
     "text": [
      "[]<---Artificial[amod]--->[]\n",
      "--------\n",
      "[u'Artificial']<---intelligence[nsubj]--->[u'AI', u',']\n",
      "--------\n",
      "[]<---([punct]--->[]\n",
      "--------\n",
      "[u'(']<---AI[appos]--->[u')']\n",
      "--------\n",
      "[]<---)[punct]--->[]\n",
      "--------\n",
      "[]<---,[punct]--->[]\n",
      "--------\n",
      "[]<---sometimes[advmod]--->[]\n",
      "--------\n",
      "[u'intelligence', u'sometimes']<---called[ccomp]--->[u'intelligence']\n",
      "--------\n",
      "[]<---machine[compound]--->[]\n",
      "--------\n",
      "[u'machine']<---intelligence[dobj]--->[]\n",
      "--------\n",
      "[]<---,[punct]--->[]\n",
      "--------\n",
      "[u'called', u',']<---is[ROOT]--->[u'intelligence', u'.']\n",
      "--------\n",
      "[]<---intelligence[nsubj]--->[u'demonstrated']\n",
      "--------\n",
      "[]<---demonstrated[acl]--->[u'by', u',', u'in']\n",
      "--------\n",
      "[]<---by[agent]--->[u'machines']\n",
      "--------\n",
      "[]<---machines[pobj]--->[]\n",
      "--------\n",
      "[]<---,[punct]--->[]\n",
      "--------\n",
      "[]<---in[prep]--->[u'contrast']\n",
      "--------\n",
      "[]<---contrast[pobj]--->[u'to']\n",
      "--------\n",
      "[]<---to[prep]--->[u'intelligence']\n",
      "--------\n",
      "[]<---the[det]--->[]\n",
      "--------\n",
      "[]<---natural[amod]--->[]\n",
      "--------\n",
      "[u'the', u'natural']<---intelligence[pobj]--->[u'displayed']\n",
      "--------\n",
      "[]<---displayed[acl]--->[u'by']\n",
      "--------\n",
      "[]<---by[agent]--->[u'humans']\n",
      "--------\n",
      "[]<---humans[pobj]--->[u'and', u'animals']\n",
      "--------\n",
      "[]<---and[cc]--->[]\n",
      "--------\n",
      "[]<---other[amod]--->[]\n",
      "--------\n",
      "[u'other']<---animals[conj]--->[]\n",
      "--------\n",
      "[]<---.[punct]--->[]\n",
      "--------\n"
     ]
    }
   ],
   "source": [
    "dependency_pattern = '{left}<---{word}[{w_type}]--->{right}\\n--------'\n",
    "for token in parsed_sent:\n",
    "    print dependency_pattern.format(word=token.orth_, \n",
    "                                  w_type=token.dep_,\n",
    "                                  left=[t.orth_ \n",
    "                                            for t \n",
    "                                            in token.lefts],\n",
    "                                  right=[t.orth_ \n",
    "                                             for t \n",
    "                                             in token.rights])"
   ]
  },
  {
   "cell_type": "code",
   "execution_count": 21,
   "metadata": {},
   "outputs": [],
   "source": [
    "sentence2 = \"Bayern Munich, or FC Bayern, is a German sports club based in Munich, Bavaria, Germany.\""
   ]
  },
  {
   "cell_type": "code",
   "execution_count": 22,
   "metadata": {},
   "outputs": [
    {
     "name": "stderr",
     "output_type": "stream",
     "text": [
      "/home/simon/.virtualenvs/r-tensorflow/lib/python2.7/site-packages/ipykernel_launcher.py:5: DeprecationWarning: The StanfordDependencyParser will be deprecated\n",
      "Please use \u001b[91mnltk.parse.corenlp.StanforCoreNLPDependencyParser\u001b[0m instead.\n",
      "  \"\"\"\n"
     ]
    },
    {
     "data": {
      "image/svg+xml": [
       "<?xml version=\"1.0\" encoding=\"UTF-8\" standalone=\"no\"?>\n",
       "<!DOCTYPE svg PUBLIC \"-//W3C//DTD SVG 1.1//EN\"\n",
       " \"http://www.w3.org/Graphics/SVG/1.1/DTD/svg11.dtd\">\n",
       "<!-- Generated by graphviz version 2.38.0 (20140413.2041)\n",
       " -->\n",
       "<!-- Title: G Pages: 1 -->\n",
       "<svg width=\"808pt\" height=\"740pt\"\n",
       " viewBox=\"0.00 0.00 808.00 740.00\" xmlns=\"http://www.w3.org/2000/svg\" xmlns:xlink=\"http://www.w3.org/1999/xlink\">\n",
       "<g id=\"graph0\" class=\"graph\" transform=\"scale(1 1) rotate(0) translate(4 736)\">\n",
       "<title>G</title>\n",
       "<polygon fill=\"white\" stroke=\"none\" points=\"-4,4 -4,-736 804,-736 804,4 -4,4\"/>\n",
       "<!-- 0 -->\n",
       "<g id=\"node1\" class=\"node\"><title>0</title>\n",
       "<text text-anchor=\"middle\" x=\"226\" y=\"-710.3\" font-family=\"Times,serif\" font-size=\"14.00\">0 (None)</text>\n",
       "</g>\n",
       "<!-- 13 -->\n",
       "<g id=\"node2\" class=\"node\"><title>13</title>\n",
       "<text text-anchor=\"middle\" x=\"226\" y=\"-623.3\" font-family=\"Times,serif\" font-size=\"14.00\">13 (intelligence)</text>\n",
       "</g>\n",
       "<!-- 0&#45;&gt;13 -->\n",
       "<g id=\"edge1\" class=\"edge\"><title>0&#45;&gt;13</title>\n",
       "<path fill=\"none\" stroke=\"black\" d=\"M226,-695.799C226,-684.163 226,-668.548 226,-655.237\"/>\n",
       "<polygon fill=\"black\" stroke=\"black\" points=\"229.5,-655.175 226,-645.175 222.5,-655.175 229.5,-655.175\"/>\n",
       "<text text-anchor=\"middle\" x=\"237\" y=\"-666.8\" font-family=\"Times,serif\" font-size=\"14.00\">root</text>\n",
       "</g>\n",
       "<!-- 2 -->\n",
       "<g id=\"node4\" class=\"node\"><title>2</title>\n",
       "<text text-anchor=\"middle\" x=\"131\" y=\"-536.3\" font-family=\"Times,serif\" font-size=\"14.00\">2 (intelligence)</text>\n",
       "</g>\n",
       "<!-- 13&#45;&gt;2 -->\n",
       "<g id=\"edge10\" class=\"edge\"><title>13&#45;&gt;2</title>\n",
       "<path fill=\"none\" stroke=\"black\" d=\"M206.775,-608.799C192.74,-596.241 173.526,-579.049 157.958,-565.12\"/>\n",
       "<polygon fill=\"black\" stroke=\"black\" points=\"159.982,-562.235 150.196,-558.175 155.315,-567.452 159.982,-562.235\"/>\n",
       "<text text-anchor=\"middle\" x=\"200\" y=\"-579.8\" font-family=\"Times,serif\" font-size=\"14.00\">nsubj</text>\n",
       "</g>\n",
       "<!-- 12 -->\n",
       "<g id=\"node10\" class=\"node\"><title>12</title>\n",
       "<text text-anchor=\"middle\" x=\"226\" y=\"-536.3\" font-family=\"Times,serif\" font-size=\"14.00\">12 (is)</text>\n",
       "</g>\n",
       "<!-- 13&#45;&gt;12 -->\n",
       "<g id=\"edge8\" class=\"edge\"><title>13&#45;&gt;12</title>\n",
       "<path fill=\"none\" stroke=\"black\" d=\"M226,-608.799C226,-597.163 226,-581.548 226,-568.237\"/>\n",
       "<polygon fill=\"black\" stroke=\"black\" points=\"229.5,-568.175 226,-558.175 222.5,-568.175 229.5,-568.175\"/>\n",
       "<text text-anchor=\"middle\" x=\"236\" y=\"-579.8\" font-family=\"Times,serif\" font-size=\"14.00\">cop</text>\n",
       "</g>\n",
       "<!-- 14 -->\n",
       "<g id=\"node11\" class=\"node\"><title>14</title>\n",
       "<text text-anchor=\"middle\" x=\"329\" y=\"-536.3\" font-family=\"Times,serif\" font-size=\"14.00\">14 (demonstrated)</text>\n",
       "</g>\n",
       "<!-- 13&#45;&gt;14 -->\n",
       "<g id=\"edge9\" class=\"edge\"><title>13&#45;&gt;14</title>\n",
       "<path fill=\"none\" stroke=\"black\" d=\"M246.844,-608.799C262.201,-596.126 283.276,-578.734 300.235,-564.738\"/>\n",
       "<polygon fill=\"black\" stroke=\"black\" points=\"302.702,-567.24 308.187,-558.175 298.247,-561.841 302.702,-567.24\"/>\n",
       "<text text-anchor=\"middle\" x=\"291\" y=\"-579.8\" font-family=\"Times,serif\" font-size=\"14.00\">acl</text>\n",
       "</g>\n",
       "<!-- 1 -->\n",
       "<g id=\"node3\" class=\"node\"><title>1</title>\n",
       "<text text-anchor=\"middle\" x=\"43\" y=\"-449.3\" font-family=\"Times,serif\" font-size=\"14.00\">1 (Artificial)</text>\n",
       "</g>\n",
       "<!-- 2&#45;&gt;1 -->\n",
       "<g id=\"edge4\" class=\"edge\"><title>2&#45;&gt;1</title>\n",
       "<path fill=\"none\" stroke=\"black\" d=\"M113.192,-521.799C100.31,-509.356 82.7184,-492.364 68.3693,-478.504\"/>\n",
       "<polygon fill=\"black\" stroke=\"black\" points=\"70.4059,-475.605 60.7816,-471.175 65.5427,-480.64 70.4059,-475.605\"/>\n",
       "<text text-anchor=\"middle\" x=\"108.5\" y=\"-492.8\" font-family=\"Times,serif\" font-size=\"14.00\">amod</text>\n",
       "</g>\n",
       "<!-- 4 -->\n",
       "<g id=\"node5\" class=\"node\"><title>4</title>\n",
       "<text text-anchor=\"middle\" x=\"131\" y=\"-449.3\" font-family=\"Times,serif\" font-size=\"14.00\">4 (AI)</text>\n",
       "</g>\n",
       "<!-- 2&#45;&gt;4 -->\n",
       "<g id=\"edge2\" class=\"edge\"><title>2&#45;&gt;4</title>\n",
       "<path fill=\"none\" stroke=\"black\" d=\"M131,-521.799C131,-510.163 131,-494.548 131,-481.237\"/>\n",
       "<polygon fill=\"black\" stroke=\"black\" points=\"134.5,-481.175 131,-471.175 127.5,-481.175 134.5,-481.175\"/>\n",
       "<text text-anchor=\"middle\" x=\"147\" y=\"-492.8\" font-family=\"Times,serif\" font-size=\"14.00\">appos</text>\n",
       "</g>\n",
       "<!-- 8 -->\n",
       "<g id=\"node6\" class=\"node\"><title>8</title>\n",
       "<text text-anchor=\"middle\" x=\"210\" y=\"-449.3\" font-family=\"Times,serif\" font-size=\"14.00\">8 (called)</text>\n",
       "</g>\n",
       "<!-- 2&#45;&gt;8 -->\n",
       "<g id=\"edge3\" class=\"edge\"><title>2&#45;&gt;8</title>\n",
       "<path fill=\"none\" stroke=\"black\" d=\"M149.258,-521.861C155.04,-516.272 161.386,-509.968 167,-504 174.413,-496.12 182.213,-487.244 189.104,-479.182\"/>\n",
       "<polygon fill=\"black\" stroke=\"black\" points=\"191.853,-481.351 195.643,-471.457 186.51,-476.828 191.853,-481.351\"/>\n",
       "<text text-anchor=\"middle\" x=\"189\" y=\"-492.8\" font-family=\"Times,serif\" font-size=\"14.00\">acl</text>\n",
       "</g>\n",
       "<!-- 7 -->\n",
       "<g id=\"node7\" class=\"node\"><title>7</title>\n",
       "<text text-anchor=\"middle\" x=\"98\" y=\"-362.3\" font-family=\"Times,serif\" font-size=\"14.00\">7 (sometimes)</text>\n",
       "</g>\n",
       "<!-- 8&#45;&gt;7 -->\n",
       "<g id=\"edge5\" class=\"edge\"><title>8&#45;&gt;7</title>\n",
       "<path fill=\"none\" stroke=\"black\" d=\"M187.335,-434.799C170.484,-422.01 147.302,-404.417 128.776,-390.357\"/>\n",
       "<polygon fill=\"black\" stroke=\"black\" points=\"130.713,-387.433 120.631,-384.175 126.481,-393.009 130.713,-387.433\"/>\n",
       "<text text-anchor=\"middle\" x=\"183.5\" y=\"-405.8\" font-family=\"Times,serif\" font-size=\"14.00\">advmod</text>\n",
       "</g>\n",
       "<!-- 10 -->\n",
       "<g id=\"node8\" class=\"node\"><title>10</title>\n",
       "<text text-anchor=\"middle\" x=\"217\" y=\"-362.3\" font-family=\"Times,serif\" font-size=\"14.00\">10 (intelligence)</text>\n",
       "</g>\n",
       "<!-- 8&#45;&gt;10 -->\n",
       "<g id=\"edge6\" class=\"edge\"><title>8&#45;&gt;10</title>\n",
       "<path fill=\"none\" stroke=\"black\" d=\"M211.417,-434.799C212.375,-423.163 213.661,-407.548 214.757,-394.237\"/>\n",
       "<polygon fill=\"black\" stroke=\"black\" points=\"218.253,-394.429 215.586,-384.175 211.277,-393.854 218.253,-394.429\"/>\n",
       "<text text-anchor=\"middle\" x=\"226.5\" y=\"-405.8\" font-family=\"Times,serif\" font-size=\"14.00\">dobj</text>\n",
       "</g>\n",
       "<!-- 9 -->\n",
       "<g id=\"node9\" class=\"node\"><title>9</title>\n",
       "<text text-anchor=\"middle\" x=\"217\" y=\"-275.3\" font-family=\"Times,serif\" font-size=\"14.00\">9 (machine)</text>\n",
       "</g>\n",
       "<!-- 10&#45;&gt;9 -->\n",
       "<g id=\"edge7\" class=\"edge\"><title>10&#45;&gt;9</title>\n",
       "<path fill=\"none\" stroke=\"black\" d=\"M217,-347.799C217,-336.163 217,-320.548 217,-307.237\"/>\n",
       "<polygon fill=\"black\" stroke=\"black\" points=\"220.5,-307.175 217,-297.175 213.5,-307.175 220.5,-307.175\"/>\n",
       "<text text-anchor=\"middle\" x=\"246\" y=\"-318.8\" font-family=\"Times,serif\" font-size=\"14.00\">compound</text>\n",
       "</g>\n",
       "<!-- 16 -->\n",
       "<g id=\"node12\" class=\"node\"><title>16</title>\n",
       "<text text-anchor=\"middle\" x=\"326\" y=\"-449.3\" font-family=\"Times,serif\" font-size=\"14.00\">16 (machines)</text>\n",
       "</g>\n",
       "<!-- 14&#45;&gt;16 -->\n",
       "<g id=\"edge11\" class=\"edge\"><title>14&#45;&gt;16</title>\n",
       "<path fill=\"none\" stroke=\"black\" d=\"M328.393,-521.799C327.982,-510.163 327.431,-494.548 326.961,-481.237\"/>\n",
       "<polygon fill=\"black\" stroke=\"black\" points=\"330.457,-481.046 326.606,-471.175 323.461,-481.293 330.457,-481.046\"/>\n",
       "<text text-anchor=\"middle\" x=\"343\" y=\"-492.8\" font-family=\"Times,serif\" font-size=\"14.00\">nmod</text>\n",
       "</g>\n",
       "<!-- 19 -->\n",
       "<g id=\"node13\" class=\"node\"><title>19</title>\n",
       "<text text-anchor=\"middle\" x=\"435\" y=\"-449.3\" font-family=\"Times,serif\" font-size=\"14.00\">19 (contrast)</text>\n",
       "</g>\n",
       "<!-- 14&#45;&gt;19 -->\n",
       "<g id=\"edge12\" class=\"edge\"><title>14&#45;&gt;19</title>\n",
       "<path fill=\"none\" stroke=\"black\" d=\"M350.451,-521.799C366.255,-509.126 387.944,-491.734 405.398,-477.738\"/>\n",
       "<polygon fill=\"black\" stroke=\"black\" points=\"407.969,-480.162 413.581,-471.175 403.59,-474.701 407.969,-480.162\"/>\n",
       "<text text-anchor=\"middle\" x=\"404\" y=\"-492.8\" font-family=\"Times,serif\" font-size=\"14.00\">nmod</text>\n",
       "</g>\n",
       "<!-- 15 -->\n",
       "<g id=\"node14\" class=\"node\"><title>15</title>\n",
       "<text text-anchor=\"middle\" x=\"326\" y=\"-362.3\" font-family=\"Times,serif\" font-size=\"14.00\">15 (by)</text>\n",
       "</g>\n",
       "<!-- 16&#45;&gt;15 -->\n",
       "<g id=\"edge13\" class=\"edge\"><title>16&#45;&gt;15</title>\n",
       "<path fill=\"none\" stroke=\"black\" d=\"M326,-434.799C326,-423.163 326,-407.548 326,-394.237\"/>\n",
       "<polygon fill=\"black\" stroke=\"black\" points=\"329.5,-394.175 326,-384.175 322.5,-394.175 329.5,-394.175\"/>\n",
       "<text text-anchor=\"middle\" x=\"338\" y=\"-405.8\" font-family=\"Times,serif\" font-size=\"14.00\">case</text>\n",
       "</g>\n",
       "<!-- 18 -->\n",
       "<g id=\"node15\" class=\"node\"><title>18</title>\n",
       "<text text-anchor=\"middle\" x=\"417\" y=\"-362.3\" font-family=\"Times,serif\" font-size=\"14.00\">18 (in)</text>\n",
       "</g>\n",
       "<!-- 19&#45;&gt;18 -->\n",
       "<g id=\"edge14\" class=\"edge\"><title>19&#45;&gt;18</title>\n",
       "<path fill=\"none\" stroke=\"black\" d=\"M431.357,-434.799C428.893,-423.163 425.587,-407.548 422.768,-394.237\"/>\n",
       "<polygon fill=\"black\" stroke=\"black\" points=\"426.133,-393.233 420.637,-384.175 419.285,-394.684 426.133,-393.233\"/>\n",
       "<text text-anchor=\"middle\" x=\"439\" y=\"-405.8\" font-family=\"Times,serif\" font-size=\"14.00\">case</text>\n",
       "</g>\n",
       "<!-- 23 -->\n",
       "<g id=\"node16\" class=\"node\"><title>23</title>\n",
       "<text text-anchor=\"middle\" x=\"515\" y=\"-362.3\" font-family=\"Times,serif\" font-size=\"14.00\">23 (intelligence)</text>\n",
       "</g>\n",
       "<!-- 19&#45;&gt;23 -->\n",
       "<g id=\"edge15\" class=\"edge\"><title>19&#45;&gt;23</title>\n",
       "<path fill=\"none\" stroke=\"black\" d=\"M451.189,-434.799C462.9,-422.356 478.892,-405.364 491.937,-391.504\"/>\n",
       "<polygon fill=\"black\" stroke=\"black\" points=\"494.53,-393.856 498.835,-384.175 489.432,-389.059 494.53,-393.856\"/>\n",
       "<text text-anchor=\"middle\" x=\"495\" y=\"-405.8\" font-family=\"Times,serif\" font-size=\"14.00\">nmod</text>\n",
       "</g>\n",
       "<!-- 20 -->\n",
       "<g id=\"node17\" class=\"node\"><title>20</title>\n",
       "<text text-anchor=\"middle\" x=\"396\" y=\"-275.3\" font-family=\"Times,serif\" font-size=\"14.00\">20 (to)</text>\n",
       "</g>\n",
       "<!-- 23&#45;&gt;20 -->\n",
       "<g id=\"edge16\" class=\"edge\"><title>23&#45;&gt;20</title>\n",
       "<path fill=\"none\" stroke=\"black\" d=\"M488.353,-347.886C479.853,-342.298 470.46,-335.989 462,-330 450.032,-321.528 437.124,-311.87 425.924,-303.315\"/>\n",
       "<polygon fill=\"black\" stroke=\"black\" points=\"427.799,-300.342 417.736,-297.027 423.535,-305.894 427.799,-300.342\"/>\n",
       "<text text-anchor=\"middle\" x=\"474\" y=\"-318.8\" font-family=\"Times,serif\" font-size=\"14.00\">case</text>\n",
       "</g>\n",
       "<!-- 21 -->\n",
       "<g id=\"node18\" class=\"node\"><title>21</title>\n",
       "<text text-anchor=\"middle\" x=\"471\" y=\"-275.3\" font-family=\"Times,serif\" font-size=\"14.00\">21 (the)</text>\n",
       "</g>\n",
       "<!-- 23&#45;&gt;21 -->\n",
       "<g id=\"edge18\" class=\"edge\"><title>23&#45;&gt;21</title>\n",
       "<path fill=\"none\" stroke=\"black\" d=\"M506.096,-347.799C499.893,-335.817 491.508,-319.617 484.488,-306.057\"/>\n",
       "<polygon fill=\"black\" stroke=\"black\" points=\"487.596,-304.447 479.891,-297.175 481.38,-307.665 487.596,-304.447\"/>\n",
       "<text text-anchor=\"middle\" x=\"503.5\" y=\"-318.8\" font-family=\"Times,serif\" font-size=\"14.00\">det</text>\n",
       "</g>\n",
       "<!-- 22 -->\n",
       "<g id=\"node19\" class=\"node\"><title>22</title>\n",
       "<text text-anchor=\"middle\" x=\"559\" y=\"-275.3\" font-family=\"Times,serif\" font-size=\"14.00\">22 (natural)</text>\n",
       "</g>\n",
       "<!-- 23&#45;&gt;22 -->\n",
       "<g id=\"edge19\" class=\"edge\"><title>23&#45;&gt;22</title>\n",
       "<path fill=\"none\" stroke=\"black\" d=\"M523.904,-347.799C530.107,-335.817 538.492,-319.617 545.512,-306.057\"/>\n",
       "<polygon fill=\"black\" stroke=\"black\" points=\"548.62,-307.665 550.109,-297.175 542.404,-304.447 548.62,-307.665\"/>\n",
       "<text text-anchor=\"middle\" x=\"554.5\" y=\"-318.8\" font-family=\"Times,serif\" font-size=\"14.00\">amod</text>\n",
       "</g>\n",
       "<!-- 24 -->\n",
       "<g id=\"node20\" class=\"node\"><title>24</title>\n",
       "<text text-anchor=\"middle\" x=\"665\" y=\"-275.3\" font-family=\"Times,serif\" font-size=\"14.00\">24 (displayed)</text>\n",
       "</g>\n",
       "<!-- 23&#45;&gt;24 -->\n",
       "<g id=\"edge17\" class=\"edge\"><title>23&#45;&gt;24</title>\n",
       "<path fill=\"none\" stroke=\"black\" d=\"M545.355,-347.799C568.609,-334.622 600.866,-316.343 626.028,-302.084\"/>\n",
       "<polygon fill=\"black\" stroke=\"black\" points=\"627.972,-305.005 634.947,-297.03 624.521,-298.915 627.972,-305.005\"/>\n",
       "<text text-anchor=\"middle\" x=\"606\" y=\"-318.8\" font-family=\"Times,serif\" font-size=\"14.00\">acl</text>\n",
       "</g>\n",
       "<!-- 26 -->\n",
       "<g id=\"node21\" class=\"node\"><title>26</title>\n",
       "<text text-anchor=\"middle\" x=\"665\" y=\"-188.3\" font-family=\"Times,serif\" font-size=\"14.00\">26 (humans)</text>\n",
       "</g>\n",
       "<!-- 24&#45;&gt;26 -->\n",
       "<g id=\"edge20\" class=\"edge\"><title>24&#45;&gt;26</title>\n",
       "<path fill=\"none\" stroke=\"black\" d=\"M665,-260.799C665,-249.163 665,-233.548 665,-220.237\"/>\n",
       "<polygon fill=\"black\" stroke=\"black\" points=\"668.5,-220.175 665,-210.175 661.5,-220.175 668.5,-220.175\"/>\n",
       "<text text-anchor=\"middle\" x=\"681\" y=\"-231.8\" font-family=\"Times,serif\" font-size=\"14.00\">nmod</text>\n",
       "</g>\n",
       "<!-- 25 -->\n",
       "<g id=\"node22\" class=\"node\"><title>25</title>\n",
       "<text text-anchor=\"middle\" x=\"588\" y=\"-101.3\" font-family=\"Times,serif\" font-size=\"14.00\">25 (by)</text>\n",
       "</g>\n",
       "<!-- 26&#45;&gt;25 -->\n",
       "<g id=\"edge21\" class=\"edge\"><title>26&#45;&gt;25</title>\n",
       "<path fill=\"none\" stroke=\"black\" d=\"M649.418,-173.799C638.25,-161.471 623.038,-144.679 610.548,-130.89\"/>\n",
       "<polygon fill=\"black\" stroke=\"black\" points=\"612.867,-128.237 603.559,-123.175 607.679,-132.936 612.867,-128.237\"/>\n",
       "<text text-anchor=\"middle\" x=\"643\" y=\"-144.8\" font-family=\"Times,serif\" font-size=\"14.00\">case</text>\n",
       "</g>\n",
       "<!-- 27 -->\n",
       "<g id=\"node23\" class=\"node\"><title>27</title>\n",
       "<text text-anchor=\"middle\" x=\"665\" y=\"-101.3\" font-family=\"Times,serif\" font-size=\"14.00\">27 (and)</text>\n",
       "</g>\n",
       "<!-- 26&#45;&gt;27 -->\n",
       "<g id=\"edge22\" class=\"edge\"><title>26&#45;&gt;27</title>\n",
       "<path fill=\"none\" stroke=\"black\" d=\"M665,-173.799C665,-162.163 665,-146.548 665,-133.237\"/>\n",
       "<polygon fill=\"black\" stroke=\"black\" points=\"668.5,-133.175 665,-123.175 661.5,-133.175 668.5,-133.175\"/>\n",
       "<text text-anchor=\"middle\" x=\"671.5\" y=\"-144.8\" font-family=\"Times,serif\" font-size=\"14.00\">cc</text>\n",
       "</g>\n",
       "<!-- 29 -->\n",
       "<g id=\"node24\" class=\"node\"><title>29</title>\n",
       "<text text-anchor=\"middle\" x=\"757\" y=\"-101.3\" font-family=\"Times,serif\" font-size=\"14.00\">29 (animals)</text>\n",
       "</g>\n",
       "<!-- 26&#45;&gt;29 -->\n",
       "<g id=\"edge23\" class=\"edge\"><title>26&#45;&gt;29</title>\n",
       "<path fill=\"none\" stroke=\"black\" d=\"M683.618,-173.799C697.21,-161.241 715.817,-144.049 730.893,-130.12\"/>\n",
       "<polygon fill=\"black\" stroke=\"black\" points=\"733.44,-132.532 738.41,-123.175 728.69,-127.391 733.44,-132.532\"/>\n",
       "<text text-anchor=\"middle\" x=\"728\" y=\"-144.8\" font-family=\"Times,serif\" font-size=\"14.00\">conj</text>\n",
       "</g>\n",
       "<!-- 28 -->\n",
       "<g id=\"node25\" class=\"node\"><title>28</title>\n",
       "<text text-anchor=\"middle\" x=\"757\" y=\"-14.3\" font-family=\"Times,serif\" font-size=\"14.00\">28 (other)</text>\n",
       "</g>\n",
       "<!-- 29&#45;&gt;28 -->\n",
       "<g id=\"edge24\" class=\"edge\"><title>29&#45;&gt;28</title>\n",
       "<path fill=\"none\" stroke=\"black\" d=\"M757,-86.799C757,-75.1626 757,-59.5479 757,-46.2368\"/>\n",
       "<polygon fill=\"black\" stroke=\"black\" points=\"760.5,-46.1754 757,-36.1754 753.5,-46.1755 760.5,-46.1754\"/>\n",
       "<text text-anchor=\"middle\" x=\"772.5\" y=\"-57.8\" font-family=\"Times,serif\" font-size=\"14.00\">amod</text>\n",
       "</g>\n",
       "</g>\n",
       "</svg>\n"
      ],
      "text/plain": [
       "<DependencyGraph with 25 nodes>"
      ]
     },
     "execution_count": 22,
     "metadata": {},
     "output_type": "execute_result"
    }
   ],
   "source": [
    "from nltk.parse.stanford import StanfordDependencyParser\n",
    "path_to_jar = '/home/simon/nltk_data/stanford/stanford-parser-full-2018-02-27/stanford-parser.jar'\n",
    "path_to_models_jar = '/home/simon/nltk_data/stanford/stanford-english-corenlp-2018-02-27-models.jar'\n",
    "\n",
    "spd = StanfordDependencyParser(path_to_jar=path_to_jar, path_to_models_jar=path_to_models_jar)\n",
    "\n",
    "result = list(spd.raw_parse(sentence))\n",
    "result[0]"
   ]
  },
  {
   "cell_type": "code",
   "execution_count": 23,
   "metadata": {},
   "outputs": [
    {
     "name": "stderr",
     "output_type": "stream",
     "text": [
      "/home/simon/.virtualenvs/r-tensorflow/lib/python2.7/site-packages/ipykernel_launcher.py:5: DeprecationWarning: The StanfordDependencyParser will be deprecated\n",
      "Please use \u001b[91mnltk.parse.corenlp.StanforCoreNLPDependencyParser\u001b[0m instead.\n",
      "  \"\"\"\n"
     ]
    },
    {
     "data": {
      "image/svg+xml": [
       "<?xml version=\"1.0\" encoding=\"UTF-8\" standalone=\"no\"?>\n",
       "<!DOCTYPE svg PUBLIC \"-//W3C//DTD SVG 1.1//EN\"\n",
       " \"http://www.w3.org/Graphics/SVG/1.1/DTD/svg11.dtd\">\n",
       "<!-- Generated by graphviz version 2.38.0 (20140413.2041)\n",
       " -->\n",
       "<!-- Title: G Pages: 1 -->\n",
       "<svg width=\"723pt\" height=\"392pt\"\n",
       " viewBox=\"0.00 0.00 722.50 392.00\" xmlns=\"http://www.w3.org/2000/svg\" xmlns:xlink=\"http://www.w3.org/1999/xlink\">\n",
       "<g id=\"graph0\" class=\"graph\" transform=\"scale(1 1) rotate(0) translate(4 388)\">\n",
       "<title>G</title>\n",
       "<polygon fill=\"white\" stroke=\"none\" points=\"-4,4 -4,-388 718.5,-388 718.5,4 -4,4\"/>\n",
       "<!-- 0 -->\n",
       "<g id=\"node1\" class=\"node\"><title>0</title>\n",
       "<text text-anchor=\"middle\" x=\"321.5\" y=\"-362.3\" font-family=\"Times,serif\" font-size=\"14.00\">0 (None)</text>\n",
       "</g>\n",
       "<!-- 12 -->\n",
       "<g id=\"node2\" class=\"node\"><title>12</title>\n",
       "<text text-anchor=\"middle\" x=\"321.5\" y=\"-275.3\" font-family=\"Times,serif\" font-size=\"14.00\">12 (club)</text>\n",
       "</g>\n",
       "<!-- 0&#45;&gt;12 -->\n",
       "<g id=\"edge1\" class=\"edge\"><title>0&#45;&gt;12</title>\n",
       "<path fill=\"none\" stroke=\"black\" d=\"M321.5,-347.799C321.5,-336.163 321.5,-320.548 321.5,-307.237\"/>\n",
       "<polygon fill=\"black\" stroke=\"black\" points=\"325,-307.175 321.5,-297.175 318,-307.175 325,-307.175\"/>\n",
       "<text text-anchor=\"middle\" x=\"332.5\" y=\"-318.8\" font-family=\"Times,serif\" font-size=\"14.00\">root</text>\n",
       "</g>\n",
       "<!-- 2 -->\n",
       "<g id=\"node4\" class=\"node\"><title>2</title>\n",
       "<text text-anchor=\"middle\" x=\"120.5\" y=\"-188.3\" font-family=\"Times,serif\" font-size=\"14.00\">2 (Munich)</text>\n",
       "</g>\n",
       "<!-- 12&#45;&gt;2 -->\n",
       "<g id=\"edge7\" class=\"edge\"><title>12&#45;&gt;2</title>\n",
       "<path fill=\"none\" stroke=\"black\" d=\"M288.234,-267.498C268.593,-261.016 243.372,-252.2 221.5,-243 201.381,-234.537 179.618,-223.955 161.463,-214.708\"/>\n",
       "<polygon fill=\"black\" stroke=\"black\" points=\"162.82,-211.471 152.326,-210.013 159.621,-217.697 162.82,-211.471\"/>\n",
       "<text text-anchor=\"middle\" x=\"236.5\" y=\"-231.8\" font-family=\"Times,serif\" font-size=\"14.00\">nsubj</text>\n",
       "</g>\n",
       "<!-- 8 -->\n",
       "<g id=\"node8\" class=\"node\"><title>8</title>\n",
       "<text text-anchor=\"middle\" x=\"205.5\" y=\"-188.3\" font-family=\"Times,serif\" font-size=\"14.00\">8 (is)</text>\n",
       "</g>\n",
       "<!-- 12&#45;&gt;8 -->\n",
       "<g id=\"edge6\" class=\"edge\"><title>12&#45;&gt;8</title>\n",
       "<path fill=\"none\" stroke=\"black\" d=\"M298.049,-260.929C290.235,-255.233 281.488,-248.849 273.5,-243 261.513,-234.223 248.354,-224.555 236.832,-216.079\"/>\n",
       "<polygon fill=\"black\" stroke=\"black\" points=\"238.901,-213.256 228.772,-210.147 234.752,-218.893 238.901,-213.256\"/>\n",
       "<text text-anchor=\"middle\" x=\"283.5\" y=\"-231.8\" font-family=\"Times,serif\" font-size=\"14.00\">cop</text>\n",
       "</g>\n",
       "<!-- 9 -->\n",
       "<g id=\"node9\" class=\"node\"><title>9</title>\n",
       "<text text-anchor=\"middle\" x=\"277.5\" y=\"-188.3\" font-family=\"Times,serif\" font-size=\"14.00\">9 (a)</text>\n",
       "</g>\n",
       "<!-- 12&#45;&gt;9 -->\n",
       "<g id=\"edge8\" class=\"edge\"><title>12&#45;&gt;9</title>\n",
       "<path fill=\"none\" stroke=\"black\" d=\"M312.596,-260.799C306.393,-248.817 298.008,-232.617 290.988,-219.057\"/>\n",
       "<polygon fill=\"black\" stroke=\"black\" points=\"294.096,-217.447 286.391,-210.175 287.88,-220.665 294.096,-217.447\"/>\n",
       "<text text-anchor=\"middle\" x=\"311\" y=\"-231.8\" font-family=\"Times,serif\" font-size=\"14.00\">det</text>\n",
       "</g>\n",
       "<!-- 10 -->\n",
       "<g id=\"node10\" class=\"node\"><title>10</title>\n",
       "<text text-anchor=\"middle\" x=\"366.5\" y=\"-188.3\" font-family=\"Times,serif\" font-size=\"14.00\">10 (German)</text>\n",
       "</g>\n",
       "<!-- 12&#45;&gt;10 -->\n",
       "<g id=\"edge10\" class=\"edge\"><title>12&#45;&gt;10</title>\n",
       "<path fill=\"none\" stroke=\"black\" d=\"M330.606,-260.799C336.95,-248.817 345.526,-232.617 352.705,-219.057\"/>\n",
       "<polygon fill=\"black\" stroke=\"black\" points=\"355.821,-220.651 357.407,-210.175 349.635,-217.376 355.821,-220.651\"/>\n",
       "<text text-anchor=\"middle\" x=\"363\" y=\"-231.8\" font-family=\"Times,serif\" font-size=\"14.00\">amod</text>\n",
       "</g>\n",
       "<!-- 11 -->\n",
       "<g id=\"node11\" class=\"node\"><title>11</title>\n",
       "<text text-anchor=\"middle\" x=\"465.5\" y=\"-188.3\" font-family=\"Times,serif\" font-size=\"14.00\">11 (sports)</text>\n",
       "</g>\n",
       "<!-- 12&#45;&gt;11 -->\n",
       "<g id=\"edge11\" class=\"edge\"><title>12&#45;&gt;11</title>\n",
       "<path fill=\"none\" stroke=\"black\" d=\"M351.669,-260.859C361.523,-255.215 372.501,-248.879 382.5,-243 397.751,-234.032 414.48,-223.994 428.898,-215.278\"/>\n",
       "<polygon fill=\"black\" stroke=\"black\" points=\"430.802,-218.217 437.543,-210.044 427.176,-212.229 430.802,-218.217\"/>\n",
       "<text text-anchor=\"middle\" x=\"437.5\" y=\"-231.8\" font-family=\"Times,serif\" font-size=\"14.00\">compound</text>\n",
       "</g>\n",
       "<!-- 15 -->\n",
       "<g id=\"node12\" class=\"node\"><title>15</title>\n",
       "<text text-anchor=\"middle\" x=\"564.5\" y=\"-188.3\" font-family=\"Times,serif\" font-size=\"14.00\">15 (Munich)</text>\n",
       "</g>\n",
       "<!-- 12&#45;&gt;15 -->\n",
       "<g id=\"edge9\" class=\"edge\"><title>12&#45;&gt;15</title>\n",
       "<path fill=\"none\" stroke=\"black\" d=\"M354.776,-272.726C385.46,-267.273 431.95,-257.501 470.5,-243 490.207,-235.587 510.987,-224.872 527.983,-215.261\"/>\n",
       "<polygon fill=\"black\" stroke=\"black\" points=\"530.088,-218.088 537.005,-210.063 526.593,-212.022 530.088,-218.088\"/>\n",
       "<text text-anchor=\"middle\" x=\"519.5\" y=\"-231.8\" font-family=\"Times,serif\" font-size=\"14.00\">nmod</text>\n",
       "</g>\n",
       "<!-- 1 -->\n",
       "<g id=\"node3\" class=\"node\"><title>1</title>\n",
       "<text text-anchor=\"middle\" x=\"37.5\" y=\"-101.3\" font-family=\"Times,serif\" font-size=\"14.00\">1 (Bayern)</text>\n",
       "</g>\n",
       "<!-- 2&#45;&gt;1 -->\n",
       "<g id=\"edge4\" class=\"edge\"><title>2&#45;&gt;1</title>\n",
       "<path fill=\"none\" stroke=\"black\" d=\"M80.9114,-173.83C72.7469,-168.953 64.7453,-163.017 58.5,-156 52.626,-149.4 48.2366,-140.92 45.0327,-132.825\"/>\n",
       "<polygon fill=\"black\" stroke=\"black\" points=\"48.303,-131.574 41.6925,-123.294 41.697,-133.889 48.303,-131.574\"/>\n",
       "<text text-anchor=\"middle\" x=\"87.5\" y=\"-144.8\" font-family=\"Times,serif\" font-size=\"14.00\">compound</text>\n",
       "</g>\n",
       "<!-- 4 -->\n",
       "<g id=\"node5\" class=\"node\"><title>4</title>\n",
       "<text text-anchor=\"middle\" x=\"120.5\" y=\"-101.3\" font-family=\"Times,serif\" font-size=\"14.00\">4 (or)</text>\n",
       "</g>\n",
       "<!-- 2&#45;&gt;4 -->\n",
       "<g id=\"edge2\" class=\"edge\"><title>2&#45;&gt;4</title>\n",
       "<path fill=\"none\" stroke=\"black\" d=\"M120.5,-173.799C120.5,-162.163 120.5,-146.548 120.5,-133.237\"/>\n",
       "<polygon fill=\"black\" stroke=\"black\" points=\"124,-133.175 120.5,-123.175 117,-133.175 124,-133.175\"/>\n",
       "<text text-anchor=\"middle\" x=\"127\" y=\"-144.8\" font-family=\"Times,serif\" font-size=\"14.00\">cc</text>\n",
       "</g>\n",
       "<!-- 6 -->\n",
       "<g id=\"node6\" class=\"node\"><title>6</title>\n",
       "<text text-anchor=\"middle\" x=\"203.5\" y=\"-101.3\" font-family=\"Times,serif\" font-size=\"14.00\">6 (Bayern)</text>\n",
       "</g>\n",
       "<!-- 2&#45;&gt;6 -->\n",
       "<g id=\"edge3\" class=\"edge\"><title>2&#45;&gt;6</title>\n",
       "<path fill=\"none\" stroke=\"black\" d=\"M137.296,-173.799C149.446,-161.356 166.038,-144.364 179.572,-130.504\"/>\n",
       "<polygon fill=\"black\" stroke=\"black\" points=\"182.246,-132.775 186.729,-123.175 177.238,-127.885 182.246,-132.775\"/>\n",
       "<text text-anchor=\"middle\" x=\"179.5\" y=\"-144.8\" font-family=\"Times,serif\" font-size=\"14.00\">conj</text>\n",
       "</g>\n",
       "<!-- 5 -->\n",
       "<g id=\"node7\" class=\"node\"><title>5</title>\n",
       "<text text-anchor=\"middle\" x=\"203.5\" y=\"-14.3\" font-family=\"Times,serif\" font-size=\"14.00\">5 (FC)</text>\n",
       "</g>\n",
       "<!-- 6&#45;&gt;5 -->\n",
       "<g id=\"edge5\" class=\"edge\"><title>6&#45;&gt;5</title>\n",
       "<path fill=\"none\" stroke=\"black\" d=\"M203.5,-86.799C203.5,-75.1626 203.5,-59.5479 203.5,-46.2368\"/>\n",
       "<polygon fill=\"black\" stroke=\"black\" points=\"207,-46.1754 203.5,-36.1754 200,-46.1755 207,-46.1754\"/>\n",
       "<text text-anchor=\"middle\" x=\"232.5\" y=\"-57.8\" font-family=\"Times,serif\" font-size=\"14.00\">compound</text>\n",
       "</g>\n",
       "<!-- 13 -->\n",
       "<g id=\"node13\" class=\"node\"><title>13</title>\n",
       "<text text-anchor=\"middle\" x=\"482.5\" y=\"-101.3\" font-family=\"Times,serif\" font-size=\"14.00\">13 (based)</text>\n",
       "</g>\n",
       "<!-- 15&#45;&gt;13 -->\n",
       "<g id=\"edge12\" class=\"edge\"><title>15&#45;&gt;13</title>\n",
       "<path fill=\"none\" stroke=\"black\" d=\"M547.906,-173.799C535.902,-161.356 519.51,-144.364 506.14,-130.504\"/>\n",
       "<polygon fill=\"black\" stroke=\"black\" points=\"508.531,-127.942 499.069,-123.175 503.493,-132.802 508.531,-127.942\"/>\n",
       "<text text-anchor=\"middle\" x=\"540.5\" y=\"-144.8\" font-family=\"Times,serif\" font-size=\"14.00\">case</text>\n",
       "</g>\n",
       "<!-- 14 -->\n",
       "<g id=\"node14\" class=\"node\"><title>14</title>\n",
       "<text text-anchor=\"middle\" x=\"564.5\" y=\"-101.3\" font-family=\"Times,serif\" font-size=\"14.00\">14 (in)</text>\n",
       "</g>\n",
       "<!-- 15&#45;&gt;14 -->\n",
       "<g id=\"edge13\" class=\"edge\"><title>15&#45;&gt;14</title>\n",
       "<path fill=\"none\" stroke=\"black\" d=\"M564.5,-173.799C564.5,-162.163 564.5,-146.548 564.5,-133.237\"/>\n",
       "<polygon fill=\"black\" stroke=\"black\" points=\"568,-133.175 564.5,-123.175 561,-133.175 568,-133.175\"/>\n",
       "<text text-anchor=\"middle\" x=\"576.5\" y=\"-144.8\" font-family=\"Times,serif\" font-size=\"14.00\">case</text>\n",
       "</g>\n",
       "<!-- 19 -->\n",
       "<g id=\"node15\" class=\"node\"><title>19</title>\n",
       "<text text-anchor=\"middle\" x=\"656.5\" y=\"-101.3\" font-family=\"Times,serif\" font-size=\"14.00\">19 (Germany)</text>\n",
       "</g>\n",
       "<!-- 15&#45;&gt;19 -->\n",
       "<g id=\"edge14\" class=\"edge\"><title>15&#45;&gt;19</title>\n",
       "<path fill=\"none\" stroke=\"black\" d=\"M583.118,-173.799C596.71,-161.241 615.317,-144.049 630.393,-130.12\"/>\n",
       "<polygon fill=\"black\" stroke=\"black\" points=\"632.94,-132.532 637.91,-123.175 628.19,-127.391 632.94,-132.532\"/>\n",
       "<text text-anchor=\"middle\" x=\"632.5\" y=\"-144.8\" font-family=\"Times,serif\" font-size=\"14.00\">appos</text>\n",
       "</g>\n",
       "<!-- 17 -->\n",
       "<g id=\"node16\" class=\"node\"><title>17</title>\n",
       "<text text-anchor=\"middle\" x=\"656.5\" y=\"-14.3\" font-family=\"Times,serif\" font-size=\"14.00\">17 (Bavaria)</text>\n",
       "</g>\n",
       "<!-- 19&#45;&gt;17 -->\n",
       "<g id=\"edge15\" class=\"edge\"><title>19&#45;&gt;17</title>\n",
       "<path fill=\"none\" stroke=\"black\" d=\"M656.5,-86.799C656.5,-75.1626 656.5,-59.5479 656.5,-46.2368\"/>\n",
       "<polygon fill=\"black\" stroke=\"black\" points=\"660,-46.1754 656.5,-36.1754 653,-46.1755 660,-46.1754\"/>\n",
       "<text text-anchor=\"middle\" x=\"685.5\" y=\"-57.8\" font-family=\"Times,serif\" font-size=\"14.00\">compound</text>\n",
       "</g>\n",
       "</g>\n",
       "</svg>\n"
      ],
      "text/plain": [
       "<DependencyGraph with 16 nodes>"
      ]
     },
     "execution_count": 23,
     "metadata": {},
     "output_type": "execute_result"
    }
   ],
   "source": [
    "from nltk.parse.stanford import StanfordDependencyParser\n",
    "path_to_jar = '/home/simon/nltk_data/stanford/stanford-parser-full-2018-02-27/stanford-parser.jar'\n",
    "path_to_models_jar = '/home/simon/nltk_data/stanford/stanford-english-corenlp-2018-02-27-models.jar'\n",
    "\n",
    "spd = StanfordDependencyParser(path_to_jar=path_to_jar, path_to_models_jar=path_to_models_jar)\n",
    "\n",
    "result = list(spd.raw_parse(sentence2))\n",
    "result[0]"
   ]
  },
  {
   "cell_type": "code",
   "execution_count": 27,
   "metadata": {},
   "outputs": [
    {
     "ename": "TypeError",
     "evalue": "'DependencyGraph' object does not support indexing",
     "traceback": [
      "\u001b[0;31m\u001b[0m",
      "\u001b[0;31mTypeError\u001b[0mTraceback (most recent call last)",
      "\u001b[0;32m<ipython-input-27-460da444203f>\u001b[0m in \u001b[0;36m<module>\u001b[0;34m()\u001b[0m\n\u001b[0;32m----> 1\u001b[0;31m \u001b[0mresult\u001b[0m\u001b[0;34m[\u001b[0m\u001b[0;36m0\u001b[0m\u001b[0;34m]\u001b[0m\u001b[0;34m[\u001b[0m\u001b[0;36m0\u001b[0m\u001b[0;34m]\u001b[0m\u001b[0;34m\u001b[0m\u001b[0m\n\u001b[0m",
      "\u001b[0;31mTypeError\u001b[0m: 'DependencyGraph' object does not support indexing"
     ],
     "output_type": "error"
    }
   ],
   "source": []
  },
  {
   "cell_type": "code",
   "execution_count": 28,
   "metadata": {},
   "outputs": [],
   "source": [
    "dep_tree = [parse.tree() for parse in result][0]"
   ]
  },
  {
   "cell_type": "code",
   "execution_count": 29,
   "metadata": {},
   "outputs": [],
   "source": [
    "# dep_tree.draw()"
   ]
  },
  {
   "cell_type": "code",
   "execution_count": 30,
   "metadata": {},
   "outputs": [
    {
     "data": {
      "image/png": "[encoded data removed]",
      "text/plain": [
       "Tree('club', [Tree('Munich', ['Bayern', 'or', Tree('Bayern', ['FC'])]), 'is', 'a', 'German', 'sports', Tree('Munich', ['based', 'in', Tree('Germany', ['Bavaria'])])])"
      ]
     },
     "metadata": {},
     "output_type": "display_data"
    }
   ],
   "source": [
    "display(dep_tree)"
   ]
  },
  {
   "cell_type": "markdown",
   "metadata": {},
   "source": [
    "# Constituency Parser"
   ]
  },
  {
   "cell_type": "code",
   "execution_count": 23,
   "metadata": {},
   "outputs": [
    {
     "name": "stderr",
     "output_type": "stream",
     "text": [
      "/home/simon/.virtualenvs/r-tensorflow/lib/python2.7/site-packages/ipykernel_launcher.py:2: DeprecationWarning: The StanfordParser will be deprecated\n",
      "Please use \u001b[91mnltk.parse.corenlp.StanforCoreNLPParser\u001b[0m instead.\n",
      "  \n"
     ]
    },
    {
     "data": {
      "image/png": "[encoded data removed]",
      "text/plain": [
       "Tree('ROOT', [Tree('S', [Tree('NP', [Tree('NP', [Tree('NP', [Tree('JJ', ['Artificial']), Tree('NN', ['intelligence'])]), Tree('PRN', [Tree('-LRB-', ['-LRB-']), Tree('NP', [Tree('NNP', ['AI'])]), Tree('-RRB-', ['-RRB-'])])]), Tree(',', [',']), Tree('VP', [Tree('ADVP', [Tree('RB', ['sometimes'])]), Tree('VBN', ['called']), Tree('NP', [Tree('NN', ['machine']), Tree('NN', ['intelligence'])])]), Tree(',', [','])]), Tree('VP', [Tree('VBZ', ['is']), Tree('NP', [Tree('NP', [Tree('NN', ['intelligence'])]), Tree('VP', [Tree('VBN', ['demonstrated']), Tree('PP', [Tree('IN', ['by']), Tree('NP', [Tree('NNS', ['machines'])])]), Tree(',', [',']), Tree('PP', [Tree('IN', ['in']), Tree('NP', [Tree('NP', [Tree('NN', ['contrast'])]), Tree('PP', [Tree('TO', ['to']), Tree('NP', [Tree('NP', [Tree('DT', ['the']), Tree('JJ', ['natural']), Tree('NN', ['intelligence'])]), Tree('VP', [Tree('VBN', ['displayed']), Tree('PP', [Tree('IN', ['by']), Tree('NP', [Tree('NP', [Tree('NNS', ['humans'])]), Tree('CC', ['and']), Tree('NP', [Tree('JJ', ['other']), Tree('NNS', ['animals'])])])])])])])])])])])]), Tree('.', ['.'])])])"
      ]
     },
     "execution_count": 23,
     "metadata": {},
     "output_type": "execute_result"
    }
   ],
   "source": [
    "from nltk.parse.stanford import StanfordParser\n",
    "scp = StanfordParser(path_to_jar=path_to_jar, path_to_models_jar=path_to_models_jar)\n",
    "\n",
    "result = list(scp.raw_parse(sentence))\n",
    "result[0]"
   ]
  }
 ],
 "metadata": {
  "kernelspec": {
   "display_name": "Python 3",
   "language": "python",
   "name": "python3"
  },
  "language_info": {
   "codemirror_mode": {
    "name": "ipython",
    "version": 2
   },
   "file_extension": ".py",
   "mimetype": "text/x-python",
   "name": "python",
   "nbconvert_exporter": "python",
   "pygments_lexer": "ipython2",
   "version": "2.7.12"
  }
 },
 "nbformat": 4,
 "nbformat_minor": 1
}
